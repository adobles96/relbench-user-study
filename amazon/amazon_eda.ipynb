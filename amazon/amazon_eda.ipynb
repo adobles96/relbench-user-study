{
 "cells": [
  {
   "cell_type": "code",
   "execution_count": 1,
   "metadata": {},
   "outputs": [],
   "source": [
    "import duckdb\n",
    "import numpy as np\n",
    "import pandas as pd\n",
    "import plotly.graph_objects as go\n",
    "import plotly.express as px\n",
    "\n",
    "\n",
    "# run utils.db_setup to set up duckdb database\n",
    "conn = duckdb.connect('amazon.db')\n",
    "%load_ext sql\n",
    "%sql conn --alias duckdb\n",
    "%config SqlMagic.displaycon=False\n",
    "%config SqlMagic.autopandas=True"
   ]
  },
  {
   "cell_type": "markdown",
   "metadata": {},
   "source": [
    "## Schema\n",
    "![](https://relbench.stanford.edu/img/amazon-reviews.png)"
   ]
  },
  {
   "cell_type": "markdown",
   "metadata": {},
   "source": [
    "## Tasks"
   ]
  },
  {
   "cell_type": "markdown",
   "metadata": {},
   "source": [
    "### `rel-amazon-ltv`\n",
    "\n",
    "Task is to predict the sum of prices of the products purchased and reviewed by a user in the next 2 years.\n",
    "\n",
    "Filter: Consider only users who wrote a review in the past two years before timestamp.\n",
    "\n",
    "Regression\n",
    "\n",
    "Metric: MAE"
   ]
  },
  {
   "cell_type": "code",
   "execution_count": 18,
   "metadata": {
    "vscode": {
     "languageId": "sql"
    }
   },
   "outputs": [],
   "source": [
    "%%sql train_df <<\n",
    "from ltv_train;"
   ]
  },
  {
   "cell_type": "code",
   "execution_count": 19,
   "metadata": {
    "vscode": {
     "languageId": "sql"
    }
   },
   "outputs": [
    {
     "data": {
      "text/html": [
       "<div>\n",
       "<style scoped>\n",
       "    .dataframe tbody tr th:only-of-type {\n",
       "        vertical-align: middle;\n",
       "    }\n",
       "\n",
       "    .dataframe tbody tr th {\n",
       "        vertical-align: top;\n",
       "    }\n",
       "\n",
       "    .dataframe thead th {\n",
       "        text-align: right;\n",
       "    }\n",
       "</style>\n",
       "<table border=\"1\" class=\"dataframe\">\n",
       "  <thead>\n",
       "    <tr style=\"text-align: right;\">\n",
       "      <th></th>\n",
       "      <th>timestamp</th>\n",
       "      <th>customer_id</th>\n",
       "      <th>ltv</th>\n",
       "      <th>count_</th>\n",
       "    </tr>\n",
       "  </thead>\n",
       "  <tbody>\n",
       "    <tr>\n",
       "      <th>0</th>\n",
       "      <td>2008-01-03</td>\n",
       "      <td>72743</td>\n",
       "      <td>1238.05</td>\n",
       "      <td>99</td>\n",
       "    </tr>\n",
       "    <tr>\n",
       "      <th>1</th>\n",
       "      <td>2008-01-03</td>\n",
       "      <td>456465</td>\n",
       "      <td>30.48</td>\n",
       "      <td>2</td>\n",
       "    </tr>\n",
       "    <tr>\n",
       "      <th>2</th>\n",
       "      <td>2008-01-03</td>\n",
       "      <td>456471</td>\n",
       "      <td>21.48</td>\n",
       "      <td>2</td>\n",
       "    </tr>\n",
       "    <tr>\n",
       "      <th>3</th>\n",
       "      <td>2008-01-03</td>\n",
       "      <td>55643</td>\n",
       "      <td>150.62</td>\n",
       "      <td>9</td>\n",
       "    </tr>\n",
       "    <tr>\n",
       "      <th>4</th>\n",
       "      <td>2008-01-03</td>\n",
       "      <td>39427</td>\n",
       "      <td>448.19</td>\n",
       "      <td>30</td>\n",
       "    </tr>\n",
       "  </tbody>\n",
       "</table>\n",
       "</div>"
      ],
      "text/plain": [
       "   timestamp  customer_id      ltv  count_\n",
       "0 2008-01-03        72743  1238.05      99\n",
       "1 2008-01-03       456465    30.48       2\n",
       "2 2008-01-03       456471    21.48       2\n",
       "3 2008-01-03        55643   150.62       9\n",
       "4 2008-01-03        39427   448.19      30"
      ]
     },
     "execution_count": 19,
     "metadata": {},
     "output_type": "execute_result"
    }
   ],
   "source": [
    "train_df.head()"
   ]
  },
  {
   "cell_type": "code",
   "execution_count": 34,
   "metadata": {},
   "outputs": [
    {
     "name": "stdout",
     "output_type": "stream",
     "text": [
      "TRAIN\n",
      "\n",
      "724,664 samples over 451,350 customers.\n",
      "\n",
      "Temporal dist of samples:\n",
      "timestamp\n",
      "1998-01    0.001533\n",
      "2000-01    0.016866\n",
      "2002-01    0.050884\n",
      "2004-01    0.059699\n",
      "2006-01    0.093377\n",
      "2008-01    0.168782\n",
      "2010-01    0.242906\n",
      "2012-01    0.365953\n",
      "Name: proportion, dtype: float64\n",
      "\n",
      "Temporal dist of customers (first appearance):\n",
      "timestamp\n",
      "1998-01-05    0.001021\n",
      "2000-01-05    0.013072\n",
      "2002-01-04    0.043585\n",
      "2004-01-04    0.042342\n",
      "2006-01-03    0.074578\n",
      "2008-01-03    0.117434\n",
      "2010-01-02    0.252008\n",
      "2012-01-02    0.455959\n",
      "Name: customer_id, dtype: float64\n",
      "\n",
      "Label Distribution:\n",
      "Mean (std): 50.0 ± 204.4\n",
      "Prop zeros: 46.8%\n",
      "Quantiles: \n",
      "0.0        0.00\n",
      "0.1        0.00\n",
      "0.2        0.00\n",
      "0.3        0.00\n",
      "0.4        0.00\n",
      "0.5        7.83\n",
      "0.6       15.99\n",
      "0.7       28.61\n",
      "0.8       49.21\n",
      "0.9       99.76\n",
      "1.0    33858.40\n",
      "Name: ltv, dtype: float64\n"
     ]
    }
   ],
   "source": [
    "print('TRAIN\\n')\n",
    "\n",
    "print(f'{len(train_df):,} samples over {train_df.customer_id.nunique():,} customers.')\n",
    "print()\n",
    "print('Temporal dist of samples:')\n",
    "print(train_df.timestamp.dt.strftime('%Y-%m').value_counts(normalize=True).sort_index())\n",
    "print()\n",
    "print('Temporal dist of customers (first appearance):')\n",
    "print(\n",
    "    # timestamp is sorted in desc order ==> keep='last'\n",
    "    train_df\n",
    "    .drop_duplicates(subset='customer_id', keep='last')\n",
    "    .groupby('timestamp').customer_id.nunique() / train_df.customer_id.nunique()\n",
    ")\n",
    "print()\n",
    "print('Label Distribution:')\n",
    "mean = train_df.ltv.mean()\n",
    "std = train_df.ltv.std()\n",
    "print(f'Mean (std): {mean:,.1f} ± {std:,.1f}')\n",
    "print(f'Prop zeros: {(train_df.ltv == 0).mean():.1%}')\n",
    "print(f'Quantiles: \\n{train_df.ltv.quantile(np.arange(0, 1.1, 0.1))}')"
   ]
  },
  {
   "cell_type": "code",
   "execution_count": 35,
   "metadata": {},
   "outputs": [],
   "source": [
    "%%sql val_df <<\n",
    "from ltv_val;"
   ]
  },
  {
   "cell_type": "code",
   "execution_count": 39,
   "metadata": {},
   "outputs": [
    {
     "name": "stdout",
     "output_type": "stream",
     "text": [
      "VAL\n",
      "\n",
      "834,248 samples over 834,248 customers.\n",
      "\n",
      "Temporal dist of samples:\n",
      "timestamp\n",
      "2014-01    1.0\n",
      "Name: proportion, dtype: float64\n",
      "\n",
      "Temporal dist of customers (first appearance):\n",
      "timestamp\n",
      "2014-01-01    1.0\n",
      "Name: customer_id, dtype: float64\n",
      "\n",
      "Customers in val seen in train: 247,523\n",
      "\n",
      "Label Distribution:\n",
      "Mean (std): 73.0 ± 196.3\n",
      "Prop zeros: 23.2%\n",
      "Quantiles: \n",
      "0.0        0.00\n",
      "0.1        0.00\n",
      "0.2        0.00\n",
      "0.3       11.64\n",
      "0.4       19.95\n",
      "0.5       30.03\n",
      "0.6       42.96\n",
      "0.7       60.45\n",
      "0.8       88.97\n",
      "0.9      155.06\n",
      "1.0    26467.99\n",
      "Name: ltv, dtype: float64\n"
     ]
    }
   ],
   "source": [
    "print('VAL\\n')\n",
    "\n",
    "print(f'{len(val_df):,} samples over {val_df.customer_id.nunique():,} customers.')\n",
    "print()\n",
    "print('Temporal dist of samples:')\n",
    "print(val_df.timestamp.dt.strftime('%Y-%m').value_counts(normalize=True).sort_index())\n",
    "print()\n",
    "print('Temporal dist of customers (first appearance):')\n",
    "print(\n",
    "    # timestamp is sorted in desc order ==> keep='last'\n",
    "    val_df\n",
    "    .drop_duplicates(subset='customer_id', keep='last')\n",
    "    .groupby('timestamp').customer_id.nunique() / val_df.customer_id.nunique()\n",
    ")\n",
    "print()\n",
    "print(f'Customers in val seen in train: {len(set(val_df.customer_id) & set(train_df.customer_id)):,}')\n",
    "print()\n",
    "print('Label Distribution:')\n",
    "mean = val_df.ltv.mean()\n",
    "std = val_df.ltv.std()\n",
    "print(f'Mean (std): {mean:,.1f} ± {std:,.1f}')\n",
    "print(f'Prop zeros: {(val_df.ltv == 0).mean():.1%}')\n",
    "print(f'Quantiles: \\n{val_df.ltv.quantile(np.arange(0, 1.1, 0.1))}')"
   ]
  },
  {
   "cell_type": "markdown",
   "metadata": {},
   "source": [
    "### `rel-amazon-churn`\n",
    "\n",
    "Predict if the user will review a product in the next 2 years.\n",
    "\n",
    "Filter: Consider only users who wrote a review in the past two years.\n",
    "\n",
    "Classification\n",
    "\n",
    "Metric: AP"
   ]
  },
  {
   "cell_type": "code",
   "execution_count": 41,
   "metadata": {
    "vscode": {
     "languageId": "sql"
    }
   },
   "outputs": [],
   "source": [
    "%%sql train_df <<\n",
    "from churn_train;"
   ]
  },
  {
   "cell_type": "code",
   "execution_count": 42,
   "metadata": {
    "vscode": {
     "languageId": "sql"
    }
   },
   "outputs": [
    {
     "data": {
      "text/html": [
       "<div>\n",
       "<style scoped>\n",
       "    .dataframe tbody tr th:only-of-type {\n",
       "        vertical-align: middle;\n",
       "    }\n",
       "\n",
       "    .dataframe tbody tr th {\n",
       "        vertical-align: top;\n",
       "    }\n",
       "\n",
       "    .dataframe thead th {\n",
       "        text-align: right;\n",
       "    }\n",
       "</style>\n",
       "<table border=\"1\" class=\"dataframe\">\n",
       "  <thead>\n",
       "    <tr style=\"text-align: right;\">\n",
       "      <th></th>\n",
       "      <th>timestamp</th>\n",
       "      <th>customer_id</th>\n",
       "      <th>churn</th>\n",
       "    </tr>\n",
       "  </thead>\n",
       "  <tbody>\n",
       "    <tr>\n",
       "      <th>0</th>\n",
       "      <td>2012-01-02</td>\n",
       "      <td>1271504</td>\n",
       "      <td>1</td>\n",
       "    </tr>\n",
       "    <tr>\n",
       "      <th>1</th>\n",
       "      <td>2012-01-02</td>\n",
       "      <td>1271507</td>\n",
       "      <td>1</td>\n",
       "    </tr>\n",
       "    <tr>\n",
       "      <th>2</th>\n",
       "      <td>2012-01-02</td>\n",
       "      <td>1271606</td>\n",
       "      <td>0</td>\n",
       "    </tr>\n",
       "    <tr>\n",
       "      <th>3</th>\n",
       "      <td>2012-01-02</td>\n",
       "      <td>1271641</td>\n",
       "      <td>0</td>\n",
       "    </tr>\n",
       "    <tr>\n",
       "      <th>4</th>\n",
       "      <td>2012-01-02</td>\n",
       "      <td>1271700</td>\n",
       "      <td>0</td>\n",
       "    </tr>\n",
       "  </tbody>\n",
       "</table>\n",
       "</div>"
      ],
      "text/plain": [
       "   timestamp  customer_id  churn\n",
       "0 2012-01-02      1271504      1\n",
       "1 2012-01-02      1271507      1\n",
       "2 2012-01-02      1271606      0\n",
       "3 2012-01-02      1271641      0\n",
       "4 2012-01-02      1271700      0"
      ]
     },
     "execution_count": 42,
     "metadata": {},
     "output_type": "execute_result"
    }
   ],
   "source": [
    "train_df.head()"
   ]
  },
  {
   "cell_type": "code",
   "execution_count": 46,
   "metadata": {},
   "outputs": [
    {
     "name": "stdout",
     "output_type": "stream",
     "text": [
      "TRAIN\n",
      "\n",
      "724,664 samples over 451,350 users.\n",
      "\n",
      "Label Distribution:\n",
      "churn\n",
      "0    0.532338\n",
      "1    0.467662\n",
      "Name: proportion, dtype: float64\n",
      "\n",
      "Temporal dist of samples:\n",
      "timestamp\n",
      "1998-01    0.001533\n",
      "2000-01    0.016866\n",
      "2002-01    0.050884\n",
      "2004-01    0.059699\n",
      "2006-01    0.093377\n",
      "2008-01    0.168782\n",
      "2010-01    0.242906\n",
      "2012-01    0.365953\n",
      "Name: proportion, dtype: float64\n",
      "\n",
      "Temporal dist of users (first appearance):\n",
      "timestamp\n",
      "1998-01-05    0.001079\n",
      "2000-01-05    0.013351\n",
      "2002-01-04    0.041704\n",
      "2004-01-04    0.044196\n",
      "2006-01-03    0.078179\n",
      "2008-01-03    0.176072\n",
      "2010-01-02    0.193384\n",
      "2012-01-02    0.452035\n",
      "Name: customer_id, dtype: float64\n"
     ]
    }
   ],
   "source": [
    "print('TRAIN\\n')\n",
    "\n",
    "print(f'{len(train_df):,} samples over {train_df.customer_id.nunique():,} users.')\n",
    "print()\n",
    "print('Label Distribution:')\n",
    "print(train_df.churn.value_counts(normalize=True))\n",
    "print()\n",
    "print('Temporal dist of samples:')\n",
    "print(train_df.timestamp.dt.strftime('%Y-%m').value_counts(normalize=True).sort_index())\n",
    "print()\n",
    "print('Temporal dist of users (first appearance):')\n",
    "print(\n",
    "    # timestamp is sorted in desc order ==> keep='last'\n",
    "    train_df\n",
    "    .drop_duplicates(subset='customer_id', keep='last')\n",
    "    .groupby('timestamp').customer_id.nunique() / train_df.customer_id.nunique()\n",
    ")"
   ]
  },
  {
   "cell_type": "code",
   "execution_count": 44,
   "metadata": {},
   "outputs": [],
   "source": [
    "%%sql val_df <<\n",
    "from churn_val;"
   ]
  },
  {
   "cell_type": "code",
   "execution_count": 47,
   "metadata": {},
   "outputs": [
    {
     "name": "stdout",
     "output_type": "stream",
     "text": [
      "VAL\n",
      "\n",
      "834,248 samples over 834,248 users.\n",
      "\n",
      "Label Distribution:\n",
      "churn\n",
      "0    0.768315\n",
      "1    0.231685\n",
      "Name: proportion, dtype: float64\n",
      "\n",
      "Temporal dist of samples:\n",
      "timestamp\n",
      "2014-01    1.0\n",
      "Name: proportion, dtype: float64\n",
      "\n",
      "Customers in val seen in train: 247,523\n",
      "\n",
      "Temporal dist of users (first appearance):\n",
      "timestamp\n",
      "2014-01-01    1.0\n",
      "Name: customer_id, dtype: float64\n"
     ]
    }
   ],
   "source": [
    "print('VAL\\n')\n",
    "\n",
    "print(f'{len(val_df):,} samples over {val_df.customer_id.nunique():,} users.')\n",
    "print()\n",
    "print('Label Distribution:')\n",
    "print(val_df.churn.value_counts(normalize=True))\n",
    "print()\n",
    "print('Temporal dist of samples:')\n",
    "print(val_df.timestamp.dt.strftime('%Y-%m').value_counts(normalize=True).sort_index())\n",
    "print()\n",
    "print(f'Customers in val seen in train: {len(set(val_df.customer_id) & set(train_df.customer_id)):,}')\n",
    "print()\n",
    "print('Temporal dist of users (first appearance):')\n",
    "print(\n",
    "    # timestamp is sorted in desc order ==> keep='last'\n",
    "    val_df\n",
    "    .drop_duplicates(subset='customer_id', keep='last')\n",
    "    .groupby('timestamp').customer_id.nunique() / val_df.customer_id.nunique()\n",
    ")"
   ]
  },
  {
   "cell_type": "markdown",
   "metadata": {},
   "source": [
    "### `rel-amazon-product-ltv`\n",
    "\n",
    "Task is to predict TODO\n",
    "\n",
    "Filter: TODO\n",
    "\n",
    "Regression\n",
    "\n",
    "Metric: MAE"
   ]
  },
  {
   "cell_type": "code",
   "execution_count": 49,
   "metadata": {},
   "outputs": [],
   "source": [
    "%%sql train_df <<\n",
    "from product_ltv_train;"
   ]
  },
  {
   "cell_type": "code",
   "execution_count": 50,
   "metadata": {},
   "outputs": [
    {
     "data": {
      "text/html": [
       "<div>\n",
       "<style scoped>\n",
       "    .dataframe tbody tr th:only-of-type {\n",
       "        vertical-align: middle;\n",
       "    }\n",
       "\n",
       "    .dataframe tbody tr th {\n",
       "        vertical-align: top;\n",
       "    }\n",
       "\n",
       "    .dataframe thead th {\n",
       "        text-align: right;\n",
       "    }\n",
       "</style>\n",
       "<table border=\"1\" class=\"dataframe\">\n",
       "  <thead>\n",
       "    <tr style=\"text-align: right;\">\n",
       "      <th></th>\n",
       "      <th>timestamp</th>\n",
       "      <th>product_id</th>\n",
       "      <th>ltv</th>\n",
       "      <th>count_</th>\n",
       "    </tr>\n",
       "  </thead>\n",
       "  <tbody>\n",
       "    <tr>\n",
       "      <th>0</th>\n",
       "      <td>2008-01-03</td>\n",
       "      <td>24818</td>\n",
       "      <td>138.50</td>\n",
       "      <td>10</td>\n",
       "    </tr>\n",
       "    <tr>\n",
       "      <th>1</th>\n",
       "      <td>2008-01-03</td>\n",
       "      <td>278751</td>\n",
       "      <td>63.98</td>\n",
       "      <td>2</td>\n",
       "    </tr>\n",
       "    <tr>\n",
       "      <th>2</th>\n",
       "      <td>2008-01-03</td>\n",
       "      <td>141304</td>\n",
       "      <td>44.73</td>\n",
       "      <td>9</td>\n",
       "    </tr>\n",
       "    <tr>\n",
       "      <th>3</th>\n",
       "      <td>2008-01-03</td>\n",
       "      <td>74608</td>\n",
       "      <td>17.34</td>\n",
       "      <td>2</td>\n",
       "    </tr>\n",
       "    <tr>\n",
       "      <th>4</th>\n",
       "      <td>2008-01-03</td>\n",
       "      <td>37868</td>\n",
       "      <td>44.40</td>\n",
       "      <td>6</td>\n",
       "    </tr>\n",
       "  </tbody>\n",
       "</table>\n",
       "</div>"
      ],
      "text/plain": [
       "   timestamp  product_id     ltv  count_\n",
       "0 2008-01-03       24818  138.50      10\n",
       "1 2008-01-03      278751   63.98       2\n",
       "2 2008-01-03      141304   44.73       9\n",
       "3 2008-01-03       74608   17.34       2\n",
       "4 2008-01-03       37868   44.40       6"
      ]
     },
     "execution_count": 50,
     "metadata": {},
     "output_type": "execute_result"
    }
   ],
   "source": [
    "train_df.head()"
   ]
  },
  {
   "cell_type": "code",
   "execution_count": 51,
   "metadata": {},
   "outputs": [
    {
     "name": "stdout",
     "output_type": "stream",
     "text": [
      "TRAIN\n",
      "\n",
      "843,032 samples over 325,820 products.\n",
      "\n",
      "Temporal dist of samples:\n",
      "timestamp\n",
      "1998-01    0.017386\n",
      "2000-01    0.051301\n",
      "2002-01    0.059221\n",
      "2004-01    0.079623\n",
      "2006-01    0.114316\n",
      "2008-01    0.149961\n",
      "2010-01    0.197219\n",
      "2012-01    0.330973\n",
      "Name: proportion, dtype: float64\n",
      "\n",
      "Temporal dist of products (first appearance):\n",
      "timestamp\n",
      "1998-01-05    0.012237\n",
      "2000-01-05    0.018010\n",
      "2002-01-04    0.040384\n",
      "2004-01-04    0.062973\n",
      "2006-01-03    0.083921\n",
      "2008-01-03    0.108078\n",
      "2010-01-02    0.197677\n",
      "2012-01-02    0.476720\n",
      "Name: product_id, dtype: float64\n",
      "\n",
      "Label Distribution:\n",
      "Mean (std): 118.2 ± 1,328.7\n",
      "Prop zeros: 0.0%\n",
      "Quantiles: \n",
      "0.0         0.00\n",
      "0.1         8.10\n",
      "0.2        13.22\n",
      "0.3        17.66\n",
      "0.4        23.97\n",
      "0.5        31.96\n",
      "0.6        43.98\n",
      "0.7        62.28\n",
      "0.8        97.65\n",
      "0.9       193.62\n",
      "1.0    696262.25\n",
      "Name: ltv, dtype: float64\n"
     ]
    }
   ],
   "source": [
    "print('TRAIN\\n')\n",
    "\n",
    "print(f'{len(train_df):,} samples over {train_df.product_id.nunique():,} products.')\n",
    "print()\n",
    "print('Temporal dist of samples:')\n",
    "print(train_df.timestamp.dt.strftime('%Y-%m').value_counts(normalize=True).sort_index())\n",
    "print()\n",
    "print('Temporal dist of products (first appearance):')\n",
    "print(\n",
    "    # timestamp is sorted in desc order ==> keep='last'\n",
    "    train_df\n",
    "    .drop_duplicates(subset='product_id', keep='last')\n",
    "    .groupby('timestamp').product_id.nunique() / train_df.product_id.nunique()\n",
    ")\n",
    "print()\n",
    "print('Label Distribution:')\n",
    "mean = train_df.ltv.mean()\n",
    "std = train_df.ltv.std()\n",
    "print(f'Mean (std): {mean:,.1f} ± {std:,.1f}')\n",
    "print(f'Prop zeros: {(train_df.ltv == 0).mean():.1%}')\n",
    "print(f'Quantiles: \\n{train_df.ltv.quantile(np.arange(0, 1.1, 0.1))}')"
   ]
  },
  {
   "cell_type": "code",
   "execution_count": 52,
   "metadata": {},
   "outputs": [],
   "source": [
    "%%sql val_df <<\n",
    "from product_ltv_val;"
   ]
  },
  {
   "cell_type": "code",
   "execution_count": 55,
   "metadata": {},
   "outputs": [
    {
     "name": "stdout",
     "output_type": "stream",
     "text": [
      "VAL\n",
      "\n",
      "380,181 samples over 380,181 products.\n",
      "\n",
      "Temporal dist of samples:\n",
      "timestamp\n",
      "2014-01    1.0\n",
      "Name: proportion, dtype: float64\n",
      "\n",
      "Temporal dist of products (first appearance):\n",
      "timestamp\n",
      "2014-01-01    1.0\n",
      "Name: product_id, dtype: float64\n",
      "\n",
      "Products in val seen in train: 286,507\n",
      "\n",
      "Label Distribution:\n",
      "Mean (std): 300.7 ± 2,964.6\n",
      "Prop zeros: 0.0%\n",
      "Quantiles: \n",
      "0.0         0.00\n",
      "0.1        13.81\n",
      "0.2        23.10\n",
      "0.3        34.74\n",
      "0.4        49.11\n",
      "0.5        68.85\n",
      "0.6        96.00\n",
      "0.7       142.12\n",
      "0.8       233.64\n",
      "0.9       494.55\n",
      "1.0    842088.85\n",
      "Name: ltv, dtype: float64\n"
     ]
    }
   ],
   "source": [
    "print('VAL\\n')\n",
    "\n",
    "print(f'{len(val_df):,} samples over {val_df.product_id.nunique():,} products.')\n",
    "print()\n",
    "print('Temporal dist of samples:')\n",
    "print(val_df.timestamp.dt.strftime('%Y-%m').value_counts(normalize=True).sort_index())\n",
    "print()\n",
    "print('Temporal dist of products (first appearance):')\n",
    "print(\n",
    "    # timestamp is sorted in desc order ==> keep='last'\n",
    "    val_df\n",
    "    .drop_duplicates(subset='product_id', keep='last')\n",
    "    .groupby('timestamp').product_id.nunique() / val_df.product_id.nunique()\n",
    ")\n",
    "print()\n",
    "print(f'Products in val seen in train: {len(set(val_df.product_id) & set(train_df.product_id)):,}')\n",
    "print()\n",
    "print('Label Distribution:')\n",
    "mean = val_df.ltv.mean()\n",
    "std = val_df.ltv.std()\n",
    "print(f'Mean (std): {mean:,.1f} ± {std:,.1f}')\n",
    "print(f'Prop zeros: {(val_df.ltv == 0).mean():.1%}')\n",
    "print(f'Quantiles: \\n{val_df.ltv.quantile(np.arange(0, 1.1, 0.1))}')"
   ]
  },
  {
   "cell_type": "markdown",
   "metadata": {},
   "source": [
    "### `rel-amazon-product-churn`\n",
    "\n",
    "TODO\n",
    "\n",
    "Filter: TODO\n",
    "\n",
    "Classification\n",
    "\n",
    "Metric: AP"
   ]
  },
  {
   "cell_type": "code",
   "execution_count": 57,
   "metadata": {},
   "outputs": [],
   "source": [
    "%%sql train_df <<\n",
    "from product_churn_train;"
   ]
  },
  {
   "cell_type": "code",
   "execution_count": 58,
   "metadata": {},
   "outputs": [
    {
     "name": "stdout",
     "output_type": "stream",
     "text": [
      "TRAIN\n",
      "\n",
      "565,756 samples over 233,716 users.\n",
      "\n",
      "Label Distribution:\n",
      "churn\n",
      "0    0.727559\n",
      "1    0.272441\n",
      "Name: proportion, dtype: float64\n",
      "\n",
      "Temporal dist of samples:\n",
      "timestamp\n",
      "1998-01    0.003084\n",
      "2000-01    0.025907\n",
      "2002-01    0.076443\n",
      "2004-01    0.088245\n",
      "2006-01    0.118647\n",
      "2008-01    0.170342\n",
      "2010-01    0.223457\n",
      "2012-01    0.293876\n",
      "Name: proportion, dtype: float64\n",
      "\n",
      "Temporal dist of users (first appearance):\n",
      "timestamp\n",
      "1998-01-05    0.001378\n",
      "2000-01-05    0.019002\n",
      "2002-01-04    0.057078\n",
      "2004-01-04    0.058212\n",
      "2006-01-03    0.102548\n",
      "2008-01-03    0.184951\n",
      "2010-01-02    0.144107\n",
      "2012-01-02    0.432726\n",
      "Name: product_id, dtype: float64\n"
     ]
    }
   ],
   "source": [
    "print('TRAIN\\n')\n",
    "\n",
    "print(f'{len(train_df):,} samples over {train_df.product_id.nunique():,} users.')\n",
    "print()\n",
    "print('Label Distribution:')\n",
    "print(train_df.churn.value_counts(normalize=True))\n",
    "print()\n",
    "print('Temporal dist of samples:')\n",
    "print(train_df.timestamp.dt.strftime('%Y-%m').value_counts(normalize=True).sort_index())\n",
    "print()\n",
    "print('Temporal dist of users (first appearance):')\n",
    "print(\n",
    "    # timestamp is sorted in desc order ==> keep='last'\n",
    "    train_df\n",
    "    .drop_duplicates(subset='product_id', keep='last')\n",
    "    .groupby('timestamp').product_id.nunique() / train_df.product_id.nunique()\n",
    ")"
   ]
  },
  {
   "cell_type": "code",
   "execution_count": 59,
   "metadata": {},
   "outputs": [],
   "source": [
    "%%sql val_df <<\n",
    "from product_churn_val;"
   ]
  },
  {
   "cell_type": "code",
   "execution_count": 60,
   "metadata": {},
   "outputs": [
    {
     "name": "stdout",
     "output_type": "stream",
     "text": [
      "VAL\n",
      "\n",
      "279,021 samples over 279,021 users.\n",
      "\n",
      "Label Distribution:\n",
      "churn\n",
      "0    0.906749\n",
      "1    0.093251\n",
      "Name: proportion, dtype: float64\n",
      "\n",
      "Temporal dist of samples:\n",
      "timestamp\n",
      "2014-01    1.0\n",
      "Name: proportion, dtype: float64\n",
      "\n",
      "Products in val seen in train: 186,911\n",
      "\n",
      "Temporal dist of users (first appearance):\n",
      "timestamp\n",
      "2014-01-01    1.0\n",
      "Name: product_id, dtype: float64\n"
     ]
    }
   ],
   "source": [
    "print('VAL\\n')\n",
    "\n",
    "print(f'{len(val_df):,} samples over {val_df.product_id.nunique():,} users.')\n",
    "print()\n",
    "print('Label Distribution:')\n",
    "print(val_df.churn.value_counts(normalize=True))\n",
    "print()\n",
    "print('Temporal dist of samples:')\n",
    "print(val_df.timestamp.dt.strftime('%Y-%m').value_counts(normalize=True).sort_index())\n",
    "print()\n",
    "print(f'Products in val seen in train: {len(set(val_df.product_id) & set(train_df.product_id)):,}')\n",
    "print()\n",
    "print('Temporal dist of users (first appearance):')\n",
    "print(\n",
    "    # timestamp is sorted in desc order ==> keep='last'\n",
    "    val_df\n",
    "    .drop_duplicates(subset='product_id', keep='last')\n",
    "    .groupby('timestamp').product_id.nunique() / val_df.product_id.nunique()\n",
    ")"
   ]
  },
  {
   "cell_type": "markdown",
   "metadata": {},
   "source": [
    "## Customer"
   ]
  },
  {
   "cell_type": "code",
   "execution_count": 61,
   "metadata": {},
   "outputs": [],
   "source": [
    "%%sql customer << \n",
    "from customer;"
   ]
  },
  {
   "cell_type": "code",
   "execution_count": 62,
   "metadata": {},
   "outputs": [
    {
     "data": {
      "text/html": [
       "<div>\n",
       "<style scoped>\n",
       "    .dataframe tbody tr th:only-of-type {\n",
       "        vertical-align: middle;\n",
       "    }\n",
       "\n",
       "    .dataframe tbody tr th {\n",
       "        vertical-align: top;\n",
       "    }\n",
       "\n",
       "    .dataframe thead th {\n",
       "        text-align: right;\n",
       "    }\n",
       "</style>\n",
       "<table border=\"1\" class=\"dataframe\">\n",
       "  <thead>\n",
       "    <tr style=\"text-align: right;\">\n",
       "      <th></th>\n",
       "      <th>customer_id</th>\n",
       "      <th>customer_name</th>\n",
       "    </tr>\n",
       "  </thead>\n",
       "  <tbody>\n",
       "    <tr>\n",
       "      <th>0</th>\n",
       "      <td>0</td>\n",
       "      <td>TW Ervin II</td>\n",
       "    </tr>\n",
       "    <tr>\n",
       "      <th>1</th>\n",
       "      <td>1</td>\n",
       "      <td>Amazon Customer</td>\n",
       "    </tr>\n",
       "    <tr>\n",
       "      <th>2</th>\n",
       "      <td>2</td>\n",
       "      <td>Tekla Borner</td>\n",
       "    </tr>\n",
       "    <tr>\n",
       "      <th>3</th>\n",
       "      <td>3</td>\n",
       "      <td>Deborah K Woroniecki</td>\n",
       "    </tr>\n",
       "    <tr>\n",
       "      <th>4</th>\n",
       "      <td>4</td>\n",
       "      <td>E</td>\n",
       "    </tr>\n",
       "  </tbody>\n",
       "</table>\n",
       "</div>"
      ],
      "text/plain": [
       "   customer_id         customer_name\n",
       "0            0           TW Ervin II\n",
       "1            1       Amazon Customer\n",
       "2            2          Tekla Borner\n",
       "3            3  Deborah K Woroniecki\n",
       "4            4                     E"
      ]
     },
     "execution_count": 62,
     "metadata": {},
     "output_type": "execute_result"
    }
   ],
   "source": [
    "customer.head()"
   ]
  },
  {
   "cell_type": "code",
   "execution_count": 63,
   "metadata": {},
   "outputs": [],
   "source": [
    "customer['name_len'] = customer.customer_name.str.len()"
   ]
  },
  {
   "cell_type": "code",
   "execution_count": 64,
   "metadata": {},
   "outputs": [
    {
     "data": {
      "text/plain": [
       "0.0      1.0\n",
       "0.1      5.0\n",
       "0.2      6.0\n",
       "0.3      8.0\n",
       "0.4      9.0\n",
       "0.5     11.0\n",
       "0.6     12.0\n",
       "0.7     14.0\n",
       "0.8     15.0\n",
       "0.9     16.0\n",
       "1.0    332.0\n",
       "Name: name_len, dtype: float64"
      ]
     },
     "execution_count": 64,
     "metadata": {},
     "output_type": "execute_result"
    }
   ],
   "source": [
    "customer.name_len.quantile(np.arange(0, 1.1, 0.1))"
   ]
  },
  {
   "cell_type": "code",
   "execution_count": 70,
   "metadata": {},
   "outputs": [
    {
     "data": {
      "text/html": [
       "<div>\n",
       "<style scoped>\n",
       "    .dataframe tbody tr th:only-of-type {\n",
       "        vertical-align: middle;\n",
       "    }\n",
       "\n",
       "    .dataframe tbody tr th {\n",
       "        vertical-align: top;\n",
       "    }\n",
       "\n",
       "    .dataframe thead th {\n",
       "        text-align: right;\n",
       "    }\n",
       "</style>\n",
       "<table border=\"1\" class=\"dataframe\">\n",
       "  <thead>\n",
       "    <tr style=\"text-align: right;\">\n",
       "      <th></th>\n",
       "      <th>customer_id</th>\n",
       "      <th>customer_name</th>\n",
       "      <th>name_len</th>\n",
       "    </tr>\n",
       "  </thead>\n",
       "  <tbody>\n",
       "    <tr>\n",
       "      <th>345</th>\n",
       "      <td>345</td>\n",
       "      <td>Anne P.  Rawson I&amp;#039;m buying one for a frie...</td>\n",
       "      <td>66.0</td>\n",
       "    </tr>\n",
       "    <tr>\n",
       "      <th>1662</th>\n",
       "      <td>1662</td>\n",
       "      <td>Jennifer Tzivia MacLeod, author of the Seven D...</td>\n",
       "      <td>98.0</td>\n",
       "    </tr>\n",
       "    <tr>\n",
       "      <th>1700</th>\n",
       "      <td>1700</td>\n",
       "      <td>Ariella Vaccarino creator of  Voice Lessons To...</td>\n",
       "      <td>61.0</td>\n",
       "    </tr>\n",
       "    <tr>\n",
       "      <th>2213</th>\n",
       "      <td>2213</td>\n",
       "      <td>Ed Benjamin. Fiction and Nonfiction Author. Au...</td>\n",
       "      <td>83.0</td>\n",
       "    </tr>\n",
       "    <tr>\n",
       "      <th>2360</th>\n",
       "      <td>2360</td>\n",
       "      <td>K.M. Weiland, Author of Historical and Specula...</td>\n",
       "      <td>58.0</td>\n",
       "    </tr>\n",
       "    <tr>\n",
       "      <th>...</th>\n",
       "      <td>...</td>\n",
       "      <td>...</td>\n",
       "      <td>...</td>\n",
       "    </tr>\n",
       "    <tr>\n",
       "      <th>1841247</th>\n",
       "      <td>1841247</td>\n",
       "      <td>Richard W. Jennings, Senior Poet Laureate, Sta...</td>\n",
       "      <td>58.0</td>\n",
       "    </tr>\n",
       "    <tr>\n",
       "      <th>1842184</th>\n",
       "      <td>1842184</td>\n",
       "      <td>Rick Scruggs, retired field grade officer, CGS...</td>\n",
       "      <td>56.0</td>\n",
       "    </tr>\n",
       "    <tr>\n",
       "      <th>1842582</th>\n",
       "      <td>1842582</td>\n",
       "      <td>reach herb huff BH hutch my wiki and join this...</td>\n",
       "      <td>100.0</td>\n",
       "    </tr>\n",
       "    <tr>\n",
       "      <th>1845273</th>\n",
       "      <td>1845273</td>\n",
       "      <td>Donald  Liponi, author of La Rumorosa Rock Art...</td>\n",
       "      <td>72.0</td>\n",
       "    </tr>\n",
       "    <tr>\n",
       "      <th>1847257</th>\n",
       "      <td>1847257</td>\n",
       "      <td>Norman Edelen, Author of  &amp;amp;#34;After A Whi...</td>\n",
       "      <td>68.0</td>\n",
       "    </tr>\n",
       "  </tbody>\n",
       "</table>\n",
       "<p>1084 rows × 3 columns</p>\n",
       "</div>"
      ],
      "text/plain": [
       "         customer_id                                      customer_name  \\\n",
       "345              345  Anne P.  Rawson I&#039;m buying one for a frie...   \n",
       "1662            1662  Jennifer Tzivia MacLeod, author of the Seven D...   \n",
       "1700            1700  Ariella Vaccarino creator of  Voice Lessons To...   \n",
       "2213            2213  Ed Benjamin. Fiction and Nonfiction Author. Au...   \n",
       "2360            2360  K.M. Weiland, Author of Historical and Specula...   \n",
       "...              ...                                                ...   \n",
       "1841247      1841247  Richard W. Jennings, Senior Poet Laureate, Sta...   \n",
       "1842184      1842184  Rick Scruggs, retired field grade officer, CGS...   \n",
       "1842582      1842582  reach herb huff BH hutch my wiki and join this...   \n",
       "1845273      1845273  Donald  Liponi, author of La Rumorosa Rock Art...   \n",
       "1847257      1847257  Norman Edelen, Author of  &amp;#34;After A Whi...   \n",
       "\n",
       "         name_len  \n",
       "345          66.0  \n",
       "1662         98.0  \n",
       "1700         61.0  \n",
       "2213         83.0  \n",
       "2360         58.0  \n",
       "...           ...  \n",
       "1841247      58.0  \n",
       "1842184      56.0  \n",
       "1842582     100.0  \n",
       "1845273      72.0  \n",
       "1847257      68.0  \n",
       "\n",
       "[1084 rows x 3 columns]"
      ]
     },
     "execution_count": 70,
     "metadata": {},
     "output_type": "execute_result"
    }
   ],
   "source": [
    "customer[customer.name_len > 50]"
   ]
  },
  {
   "cell_type": "markdown",
   "metadata": {},
   "source": [
    "## Product"
   ]
  },
  {
   "cell_type": "code",
   "execution_count": 72,
   "metadata": {},
   "outputs": [],
   "source": [
    "%%sql product <<\n",
    "from product;"
   ]
  },
  {
   "cell_type": "code",
   "execution_count": 73,
   "metadata": {},
   "outputs": [
    {
     "data": {
      "text/html": [
       "<div>\n",
       "<style scoped>\n",
       "    .dataframe tbody tr th:only-of-type {\n",
       "        vertical-align: middle;\n",
       "    }\n",
       "\n",
       "    .dataframe tbody tr th {\n",
       "        vertical-align: top;\n",
       "    }\n",
       "\n",
       "    .dataframe thead th {\n",
       "        text-align: right;\n",
       "    }\n",
       "</style>\n",
       "<table border=\"1\" class=\"dataframe\">\n",
       "  <thead>\n",
       "    <tr style=\"text-align: right;\">\n",
       "      <th></th>\n",
       "      <th>product_id</th>\n",
       "      <th>category</th>\n",
       "      <th>brand</th>\n",
       "      <th>title</th>\n",
       "      <th>description</th>\n",
       "      <th>price</th>\n",
       "    </tr>\n",
       "  </thead>\n",
       "  <tbody>\n",
       "    <tr>\n",
       "      <th>0</th>\n",
       "      <td>0</td>\n",
       "      <td>[Books, Literature &amp; Fiction, Dramas &amp; Plays]</td>\n",
       "      <td>Visit Amazon's William Shakespeare Page</td>\n",
       "      <td>Love's Labour's Lost: Performed by Derek Jacob...</td>\n",
       "      <td>William Shakespeare is widely regarded as the ...</td>\n",
       "      <td>20.93</td>\n",
       "    </tr>\n",
       "    <tr>\n",
       "      <th>1</th>\n",
       "      <td>1</td>\n",
       "      <td>[Books, Children's Books, Literature &amp; Fiction]</td>\n",
       "      <td>Louis (ed) UNTERMEYER</td>\n",
       "      <td>The golden treasury of poetry</td>\n",
       "      <td>Collection of Poetry</td>\n",
       "      <td>23.98</td>\n",
       "    </tr>\n",
       "    <tr>\n",
       "      <th>2</th>\n",
       "      <td>2</td>\n",
       "      <td>[Books, Mystery, Thriller &amp; Suspense]</td>\n",
       "      <td>Visit Amazon's Agatha Christie Page</td>\n",
       "      <td>The Blue Geranium (Miss Marple)</td>\n",
       "      <td>None</td>\n",
       "      <td>8.82</td>\n",
       "    </tr>\n",
       "    <tr>\n",
       "      <th>3</th>\n",
       "      <td>3</td>\n",
       "      <td>[Books, Humor &amp; Entertainment]</td>\n",
       "      <td>Visit Amazon's Tom Baker Page</td>\n",
       "      <td>Who on Earth Is Tom Baker?</td>\n",
       "      <td>Tom Baker's autobiography covers his childhood...</td>\n",
       "      <td>159.95</td>\n",
       "    </tr>\n",
       "    <tr>\n",
       "      <th>4</th>\n",
       "      <td>4</td>\n",
       "      <td>[Books, Christian Books &amp; Bibles, Bible Study ...</td>\n",
       "      <td>Visit Amazon's Clarence Larkin Page</td>\n",
       "      <td>The Greatest Book on &amp;quot;Dispensational Trut...</td>\n",
       "      <td>The Greatest Book on Dispensational Truth in t...</td>\n",
       "      <td>44.76</td>\n",
       "    </tr>\n",
       "  </tbody>\n",
       "</table>\n",
       "</div>"
      ],
      "text/plain": [
       "   product_id                                           category  \\\n",
       "0           0      [Books, Literature & Fiction, Dramas & Plays]   \n",
       "1           1    [Books, Children's Books, Literature & Fiction]   \n",
       "2           2              [Books, Mystery, Thriller & Suspense]   \n",
       "3           3                     [Books, Humor & Entertainment]   \n",
       "4           4  [Books, Christian Books & Bibles, Bible Study ...   \n",
       "\n",
       "                                     brand  \\\n",
       "0  Visit Amazon's William Shakespeare Page   \n",
       "1                    Louis (ed) UNTERMEYER   \n",
       "2      Visit Amazon's Agatha Christie Page   \n",
       "3            Visit Amazon's Tom Baker Page   \n",
       "4      Visit Amazon's Clarence Larkin Page   \n",
       "\n",
       "                                               title  \\\n",
       "0  Love's Labour's Lost: Performed by Derek Jacob...   \n",
       "1                      The golden treasury of poetry   \n",
       "2                    The Blue Geranium (Miss Marple)   \n",
       "3                         Who on Earth Is Tom Baker?   \n",
       "4  The Greatest Book on &quot;Dispensational Trut...   \n",
       "\n",
       "                                         description   price  \n",
       "0  William Shakespeare is widely regarded as the ...   20.93  \n",
       "1                               Collection of Poetry   23.98  \n",
       "2                                               None    8.82  \n",
       "3  Tom Baker's autobiography covers his childhood...  159.95  \n",
       "4  The Greatest Book on Dispensational Truth in t...   44.76  "
      ]
     },
     "execution_count": 73,
     "metadata": {},
     "output_type": "execute_result"
    }
   ],
   "source": [
    "product.head()"
   ]
  },
  {
   "cell_type": "code",
   "execution_count": 78,
   "metadata": {},
   "outputs": [
    {
     "data": {
      "image/png": "[encoded data removed]"
     },
     "metadata": {},
     "output_type": "display_data"
    }
   ],
   "source": [
    "fig = px.histogram(x=product.price, range_x=(0, 100))\n",
    "fig.update_layout(width=700, height=500, xaxis_title='Price', yaxis_title='Count')\n",
    "fig.show(renderer='png')"
   ]
  },
  {
   "cell_type": "code",
   "execution_count": 98,
   "metadata": {},
   "outputs": [
    {
     "data": {
      "text/plain": [
       "array(['Books', 'Literature & Fiction', 'Dramas & Plays'], dtype=object)"
      ]
     },
     "execution_count": 98,
     "metadata": {},
     "output_type": "execute_result"
    }
   ],
   "source": [
    "product.category.iloc[0]"
   ]
  },
  {
   "cell_type": "code",
   "execution_count": 123,
   "metadata": {},
   "outputs": [],
   "source": [
    "def get_specific(x):\n",
    "    if isinstance(x, float):\n",
    "        return ' '\n",
    "    return str(x[-1])\n",
    "\n",
    "cats = product.category.apply(get_specific)"
   ]
  },
  {
   "cell_type": "code",
   "execution_count": 124,
   "metadata": {},
   "outputs": [
    {
     "data": {
      "text/plain": [
       "category\n",
       "Genre Fiction                           35906\n",
       "Literature &amp; Fiction                23231\n",
       "                                        18854\n",
       "Mystery                                 16530\n",
       "Contemporary                            16437\n",
       "                                        ...  \n",
       "Environmentalists &amp; Naturalists         1\n",
       "Foreign &amp; International Law             1\n",
       "Birdwatching                                1\n",
       "Ethics & Professional Responsibility        1\n",
       "Coffee & Tea                                1\n",
       "Name: count, Length: 671, dtype: int64"
      ]
     },
     "execution_count": 124,
     "metadata": {},
     "output_type": "execute_result"
    }
   ],
   "source": [
    "cats.value_counts()"
   ]
  },
  {
   "cell_type": "code",
   "execution_count": 125,
   "metadata": {},
   "outputs": [],
   "source": [
    "product['desc_len'] = product.description.str.len()\n",
    "product['title_len'] = product.title.str.len()"
   ]
  },
  {
   "cell_type": "code",
   "execution_count": 127,
   "metadata": {},
   "outputs": [
    {
     "data": {
      "text/plain": [
       "0.0        0.0\n",
       "0.1        0.0\n",
       "0.2        0.0\n",
       "0.3        0.0\n",
       "0.4      172.0\n",
       "0.5      339.0\n",
       "0.6      511.0\n",
       "0.7      772.0\n",
       "0.8     1106.0\n",
       "0.9     1511.0\n",
       "1.0    66180.0\n",
       "Name: desc_len, dtype: float64"
      ]
     },
     "execution_count": 127,
     "metadata": {},
     "output_type": "execute_result"
    }
   ],
   "source": [
    "product.desc_len.quantile(np.arange(0, 1.1, 0.1))"
   ]
  },
  {
   "cell_type": "code",
   "execution_count": 128,
   "metadata": {},
   "outputs": [
    {
     "data": {
      "text/plain": [
       "0.0      1.0\n",
       "0.1     15.0\n",
       "0.2     21.0\n",
       "0.3     29.0\n",
       "0.4     36.0\n",
       "0.5     43.0\n",
       "0.6     51.0\n",
       "0.7     60.0\n",
       "0.8     72.0\n",
       "0.9     90.0\n",
       "1.0    497.0\n",
       "Name: title_len, dtype: float64"
      ]
     },
     "execution_count": 128,
     "metadata": {},
     "output_type": "execute_result"
    }
   ],
   "source": [
    "product.title_len.quantile(np.arange(0, 1.1, 0.1))"
   ]
  },
  {
   "cell_type": "markdown",
   "metadata": {},
   "source": [
    "## Review"
   ]
  },
  {
   "cell_type": "code",
   "execution_count": 129,
   "metadata": {
    "vscode": {
     "languageId": "sql"
    }
   },
   "outputs": [],
   "source": [
    "%%sql review <<\n",
    "-- review is a large table beware of memory usage\n",
    "from review;"
   ]
  },
  {
   "cell_type": "code",
   "execution_count": 130,
   "metadata": {},
   "outputs": [
    {
     "data": {
      "text/html": [
       "<div>\n",
       "<style scoped>\n",
       "    .dataframe tbody tr th:only-of-type {\n",
       "        vertical-align: middle;\n",
       "    }\n",
       "\n",
       "    .dataframe tbody tr th {\n",
       "        vertical-align: top;\n",
       "    }\n",
       "\n",
       "    .dataframe thead th {\n",
       "        text-align: right;\n",
       "    }\n",
       "</style>\n",
       "<table border=\"1\" class=\"dataframe\">\n",
       "  <thead>\n",
       "    <tr style=\"text-align: right;\">\n",
       "      <th></th>\n",
       "      <th>review_time</th>\n",
       "      <th>customer_id</th>\n",
       "      <th>product_id</th>\n",
       "      <th>rating</th>\n",
       "      <th>verified</th>\n",
       "      <th>review_text</th>\n",
       "      <th>summary</th>\n",
       "    </tr>\n",
       "  </thead>\n",
       "  <tbody>\n",
       "    <tr>\n",
       "      <th>0</th>\n",
       "      <td>2005-03-30</td>\n",
       "      <td>0</td>\n",
       "      <td>14</td>\n",
       "      <td>5.0</td>\n",
       "      <td>False</td>\n",
       "      <td>The King, the Mice and the Cheese by Nancy Gur...</td>\n",
       "      <td>A story children will love and learn from</td>\n",
       "    </tr>\n",
       "    <tr>\n",
       "      <th>1</th>\n",
       "      <td>2015-07-09</td>\n",
       "      <td>3</td>\n",
       "      <td>14</td>\n",
       "      <td>5.0</td>\n",
       "      <td>False</td>\n",
       "      <td>LOVE IT</td>\n",
       "      <td>Five Stars</td>\n",
       "    </tr>\n",
       "    <tr>\n",
       "      <th>2</th>\n",
       "      <td>2015-01-18</td>\n",
       "      <td>4</td>\n",
       "      <td>14</td>\n",
       "      <td>5.0</td>\n",
       "      <td>True</td>\n",
       "      <td>Great!</td>\n",
       "      <td>Five Stars</td>\n",
       "    </tr>\n",
       "    <tr>\n",
       "      <th>3</th>\n",
       "      <td>2013-11-03</td>\n",
       "      <td>5</td>\n",
       "      <td>14</td>\n",
       "      <td>5.0</td>\n",
       "      <td>False</td>\n",
       "      <td>Over and over the king has problems.  Fortunat...</td>\n",
       "      <td>Not Nice Mice</td>\n",
       "    </tr>\n",
       "    <tr>\n",
       "      <th>4</th>\n",
       "      <td>2013-10-08</td>\n",
       "      <td>6</td>\n",
       "      <td>14</td>\n",
       "      <td>5.0</td>\n",
       "      <td>True</td>\n",
       "      <td>I remember reading my parents' copy of this bo...</td>\n",
       "      <td>One of my favorite kids' stories</td>\n",
       "    </tr>\n",
       "  </tbody>\n",
       "</table>\n",
       "</div>"
      ],
      "text/plain": [
       "  review_time  customer_id  product_id  rating  verified  \\\n",
       "0  2005-03-30            0          14     5.0     False   \n",
       "1  2015-07-09            3          14     5.0     False   \n",
       "2  2015-01-18            4          14     5.0      True   \n",
       "3  2013-11-03            5          14     5.0     False   \n",
       "4  2013-10-08            6          14     5.0      True   \n",
       "\n",
       "                                         review_text  \\\n",
       "0  The King, the Mice and the Cheese by Nancy Gur...   \n",
       "1                                            LOVE IT   \n",
       "2                                             Great!   \n",
       "3  Over and over the king has problems.  Fortunat...   \n",
       "4  I remember reading my parents' copy of this bo...   \n",
       "\n",
       "                                     summary  \n",
       "0  A story children will love and learn from  \n",
       "1                                 Five Stars  \n",
       "2                                 Five Stars  \n",
       "3                              Not Nice Mice  \n",
       "4           One of my favorite kids' stories  "
      ]
     },
     "execution_count": 130,
     "metadata": {},
     "output_type": "execute_result"
    }
   ],
   "source": [
    "review.head()"
   ]
  },
  {
   "cell_type": "code",
   "execution_count": 131,
   "metadata": {},
   "outputs": [
    {
     "data": {
      "text/plain": [
       "verified\n",
       "True     9106326\n",
       "False    4611426\n",
       "Name: count, dtype: int64"
      ]
     },
     "execution_count": 131,
     "metadata": {},
     "output_type": "execute_result"
    }
   ],
   "source": [
    "review.verified.value_counts()"
   ]
  },
  {
   "cell_type": "code",
   "execution_count": 132,
   "metadata": {},
   "outputs": [
    {
     "data": {
      "text/plain": [
       "verified\n",
       "False    4.183531\n",
       "True     4.400643\n",
       "Name: rating, dtype: float32"
      ]
     },
     "execution_count": 132,
     "metadata": {},
     "output_type": "execute_result"
    }
   ],
   "source": [
    "review.groupby('verified').rating.mean()"
   ]
  },
  {
   "cell_type": "code",
   "execution_count": 4,
   "metadata": {
    "vscode": {
     "languageId": "sql"
    }
   },
   "outputs": [],
   "source": [
    "%%sql per_product <<\n",
    "select\n",
    "    product_id,\n",
    "    avg(rating) as avg_rating,\n",
    "    count(*) as num_reviews\n",
    "from review\n",
    "group by product_id"
   ]
  },
  {
   "cell_type": "code",
   "execution_count": 8,
   "metadata": {},
   "outputs": [
    {
     "data": {
      "image/png": "[encoded data removed]"
     },
     "metadata": {},
     "output_type": "display_data"
    }
   ],
   "source": [
    "fig = px.histogram(per_product, x='avg_rating', nbins=50)\n",
    "fig.update_layout(width=700, height=500)\n",
    "fig.show(renderer='png')"
   ]
  },
  {
   "cell_type": "code",
   "execution_count": 14,
   "metadata": {
    "vscode": {
     "languageId": "sql"
    }
   },
   "outputs": [
    {
     "data": {
      "image/png": "[encoded data removed]"
     },
     "metadata": {},
     "output_type": "display_data"
    }
   ],
   "source": [
    "fig = px.histogram(per_product, x='num_reviews', nbins=50, log_y=True)\n",
    "fig.update_layout(width=700, height=500)\n",
    "fig.show(renderer='png')"
   ]
  },
  {
   "cell_type": "code",
   "execution_count": 16,
   "metadata": {
    "vscode": {
     "languageId": "sql"
    }
   },
   "outputs": [],
   "source": [
    "%%sql per_customer <<\n",
    "select\n",
    "    customer_id,\n",
    "    avg(rating) as avg_rating,\n",
    "    count(*) as num_reviews\n",
    "from review\n",
    "group by customer_id"
   ]
  },
  {
   "cell_type": "code",
   "execution_count": 17,
   "metadata": {
    "vscode": {
     "languageId": "sql"
    }
   },
   "outputs": [
    {
     "data": {
      "image/png": "[encoded data removed]"
     },
     "metadata": {},
     "output_type": "display_data"
    }
   ],
   "source": [
    "fig = px.histogram(per_customer, x='avg_rating', nbins=50)\n",
    "fig.update_layout(width=700, height=500)\n",
    "fig.show(renderer='png')"
   ]
  },
  {
   "cell_type": "code",
   "execution_count": 18,
   "metadata": {
    "vscode": {
     "languageId": "sql"
    }
   },
   "outputs": [
    {
     "data": {
      "image/png": "[encoded data removed]"
     },
     "metadata": {},
     "output_type": "display_data"
    }
   ],
   "source": [
    "fig = px.histogram(per_customer, x='num_reviews', nbins=50, log_y=True)\n",
    "fig.update_layout(width=700, height=500)\n",
    "fig.show(renderer='png')"
   ]
  },
  {
   "cell_type": "code",
   "execution_count": 4,
   "metadata": {
    "vscode": {
     "languageId": "sql"
    }
   },
   "outputs": [],
   "source": [
    "%%sql weeks_bw_reviews <<\n",
    "select\n",
    "    date_diff(\n",
    "        'weeks',\n",
    "        review_time,\n",
    "        lead(review_time, 1) over (partition by customer_id order by review_time)\n",
    "    ) as weeks_bw_reviews\n",
    "from review"
   ]
  },
  {
   "cell_type": "code",
   "execution_count": 8,
   "metadata": {
    "vscode": {
     "languageId": "sql"
    }
   },
   "outputs": [
    {
     "data": {
      "image/png": "[encoded data removed]"
     },
     "metadata": {},
     "output_type": "display_data"
    }
   ],
   "source": [
    "fig = px.histogram(weeks_bw_reviews, x='weeks_bw_reviews', log_y=True)\n",
    "fig.update_layout(width=700, height=500)\n",
    "fig.show(renderer='png')"
   ]
  },
  {
   "cell_type": "code",
   "execution_count": 9,
   "metadata": {
    "vscode": {
     "languageId": "sql"
    }
   },
   "outputs": [
    {
     "data": {
      "text/plain": [
       "0.0      0.0\n",
       "0.1      0.0\n",
       "0.2      0.0\n",
       "0.3      0.0\n",
       "0.4      1.0\n",
       "0.5      2.0\n",
       "0.6      4.0\n",
       "0.7      8.0\n",
       "0.8     17.0\n",
       "0.9     42.0\n",
       "1.0    954.0\n",
       "Name: weeks_bw_reviews, dtype: float64"
      ]
     },
     "execution_count": 9,
     "metadata": {},
     "output_type": "execute_result"
    }
   ],
   "source": [
    "weeks_bw_reviews.weeks_bw_reviews.quantile(np.arange(0, 1.1, 0.1))"
   ]
  },
  {
   "cell_type": "code",
   "execution_count": 10,
   "metadata": {
    "vscode": {
     "languageId": "sql"
    }
   },
   "outputs": [
    {
     "data": {
      "text/plain": [
       "0.11856082541804226"
      ]
     },
     "execution_count": 10,
     "metadata": {},
     "output_type": "execute_result"
    }
   ],
   "source": [
    "weeks_bw_reviews.weeks_bw_reviews.isna().mean()"
   ]
  },
  {
   "cell_type": "code",
   "execution_count": null,
   "metadata": {
    "vscode": {
     "languageId": "sql"
    }
   },
   "outputs": [],
   "source": []
  }
 ],
 "metadata": {
  "kernelspec": {
   "display_name": "relbench",
   "language": "python",
   "name": "python3"
  },
  "language_info": {
   "codemirror_mode": {
    "name": "ipython",
    "version": 3
   },
   "file_extension": ".py",
   "mimetype": "text/x-python",
   "name": "python",
   "nbconvert_exporter": "python",
   "pygments_lexer": "ipython3",
   "version": "3.11.8"
  }
 },
 "nbformat": 4,
 "nbformat_minor": 2
}
