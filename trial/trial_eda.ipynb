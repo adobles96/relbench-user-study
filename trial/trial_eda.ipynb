{
 "cells": [
  {
   "cell_type": "code",
   "execution_count": 2,
   "metadata": {},
   "outputs": [
    {
     "name": "stdout",
     "output_type": "stream",
     "text": [
      "loading Database object from /afs/cs.stanford.edu/u/kexinh/.cache/relbench/rel-trial/db...\n",
      "done in 6.32 seconds.\n"
     ]
    }
   ],
   "source": [
    "import pandas as pd\n",
    "import seaborn as sns\n",
    "import matplotlib.pyplot as plt\n",
    "from relbench.datasets import get_dataset\n",
    "\n",
    "%load_ext autoreload\n",
    "%autoreload 2\n",
    "\n",
    "dataset = get_dataset(name='rel-trial', process=False)"
   ]
  },
  {
   "cell_type": "code",
   "execution_count": 3,
   "metadata": {},
   "outputs": [
    {
     "data": {
      "text/plain": [
       "dict_keys(['interventions_studies', 'sponsors', 'sponsors_studies', 'conditions_studies', 'outcomes', 'conditions', 'reported_event_totals', 'studies', 'designs', 'drop_withdrawals', 'outcome_analyses', 'interventions', 'eligibilities', 'facilities_studies', 'facilities'])"
      ]
     },
     "execution_count": 3,
     "metadata": {},
     "output_type": "execute_result"
    }
   ],
   "source": [
    "dataset.db.table_dict.keys()"
   ]
  },
  {
   "cell_type": "code",
   "execution_count": 4,
   "metadata": {},
   "outputs": [
    {
     "name": "stdout",
     "output_type": "stream",
     "text": [
      "interventions_studies\n"
     ]
    },
    {
     "data": {
      "text/html": [
       "<div>\n",
       "<style scoped>\n",
       "    .dataframe tbody tr th:only-of-type {\n",
       "        vertical-align: middle;\n",
       "    }\n",
       "\n",
       "    .dataframe tbody tr th {\n",
       "        vertical-align: top;\n",
       "    }\n",
       "\n",
       "    .dataframe thead th {\n",
       "        text-align: right;\n",
       "    }\n",
       "</style>\n",
       "<table border=\"1\" class=\"dataframe\">\n",
       "  <thead>\n",
       "    <tr style=\"text-align: right;\">\n",
       "      <th></th>\n",
       "      <th>id</th>\n",
       "      <th>nct_id</th>\n",
       "      <th>intervention_id</th>\n",
       "      <th>date</th>\n",
       "    </tr>\n",
       "  </thead>\n",
       "  <tbody>\n",
       "    <tr>\n",
       "      <th>0</th>\n",
       "      <td>0</td>\n",
       "      <td>25</td>\n",
       "      <td>1619</td>\n",
       "      <td>2000-01-01</td>\n",
       "    </tr>\n",
       "  </tbody>\n",
       "</table>\n",
       "</div>"
      ],
      "text/plain": [
       "   id  nct_id  intervention_id       date\n",
       "0   0      25             1619 2000-01-01"
      ]
     },
     "metadata": {},
     "output_type": "display_data"
    },
    {
     "name": "stdout",
     "output_type": "stream",
     "text": [
      "sponsors\n"
     ]
    },
    {
     "data": {
      "text/html": [
       "<div>\n",
       "<style scoped>\n",
       "    .dataframe tbody tr th:only-of-type {\n",
       "        vertical-align: middle;\n",
       "    }\n",
       "\n",
       "    .dataframe tbody tr th {\n",
       "        vertical-align: top;\n",
       "    }\n",
       "\n",
       "    .dataframe thead th {\n",
       "        text-align: right;\n",
       "    }\n",
       "</style>\n",
       "<table border=\"1\" class=\"dataframe\">\n",
       "  <thead>\n",
       "    <tr style=\"text-align: right;\">\n",
       "      <th></th>\n",
       "      <th>sponsor_id</th>\n",
       "      <th>name</th>\n",
       "      <th>agency_class</th>\n",
       "    </tr>\n",
       "  </thead>\n",
       "  <tbody>\n",
       "    <tr>\n",
       "      <th>0</th>\n",
       "      <td>0</td>\n",
       "      <td>Johns Hopkins All Children's Hospital</td>\n",
       "      <td>OTHER</td>\n",
       "    </tr>\n",
       "  </tbody>\n",
       "</table>\n",
       "</div>"
      ],
      "text/plain": [
       "   sponsor_id                                   name agency_class\n",
       "0           0  Johns Hopkins All Children's Hospital        OTHER"
      ]
     },
     "metadata": {},
     "output_type": "display_data"
    },
    {
     "name": "stdout",
     "output_type": "stream",
     "text": [
      "sponsors_studies\n"
     ]
    },
    {
     "data": {
      "text/html": [
       "<div>\n",
       "<style scoped>\n",
       "    .dataframe tbody tr th:only-of-type {\n",
       "        vertical-align: middle;\n",
       "    }\n",
       "\n",
       "    .dataframe tbody tr th {\n",
       "        vertical-align: top;\n",
       "    }\n",
       "\n",
       "    .dataframe thead th {\n",
       "        text-align: right;\n",
       "    }\n",
       "</style>\n",
       "<table border=\"1\" class=\"dataframe\">\n",
       "  <thead>\n",
       "    <tr style=\"text-align: right;\">\n",
       "      <th></th>\n",
       "      <th>id</th>\n",
       "      <th>nct_id</th>\n",
       "      <th>sponsor_id</th>\n",
       "      <th>lead_or_collaborator</th>\n",
       "      <th>date</th>\n",
       "    </tr>\n",
       "  </thead>\n",
       "  <tbody>\n",
       "    <tr>\n",
       "      <th>0</th>\n",
       "      <td>0</td>\n",
       "      <td>10</td>\n",
       "      <td>5744</td>\n",
       "      <td>lead</td>\n",
       "      <td>2000-01-01</td>\n",
       "    </tr>\n",
       "  </tbody>\n",
       "</table>\n",
       "</div>"
      ],
      "text/plain": [
       "   id  nct_id  sponsor_id lead_or_collaborator       date\n",
       "0   0      10        5744                 lead 2000-01-01"
      ]
     },
     "metadata": {},
     "output_type": "display_data"
    },
    {
     "name": "stdout",
     "output_type": "stream",
     "text": [
      "conditions_studies\n"
     ]
    },
    {
     "data": {
      "text/html": [
       "<div>\n",
       "<style scoped>\n",
       "    .dataframe tbody tr th:only-of-type {\n",
       "        vertical-align: middle;\n",
       "    }\n",
       "\n",
       "    .dataframe tbody tr th {\n",
       "        vertical-align: top;\n",
       "    }\n",
       "\n",
       "    .dataframe thead th {\n",
       "        text-align: right;\n",
       "    }\n",
       "</style>\n",
       "<table border=\"1\" class=\"dataframe\">\n",
       "  <thead>\n",
       "    <tr style=\"text-align: right;\">\n",
       "      <th></th>\n",
       "      <th>id</th>\n",
       "      <th>nct_id</th>\n",
       "      <th>condition_id</th>\n",
       "      <th>date</th>\n",
       "    </tr>\n",
       "  </thead>\n",
       "  <tbody>\n",
       "    <tr>\n",
       "      <th>0</th>\n",
       "      <td>0</td>\n",
       "      <td>11</td>\n",
       "      <td>285</td>\n",
       "      <td>2000-01-01</td>\n",
       "    </tr>\n",
       "  </tbody>\n",
       "</table>\n",
       "</div>"
      ],
      "text/plain": [
       "   id  nct_id  condition_id       date\n",
       "0   0      11           285 2000-01-01"
      ]
     },
     "metadata": {},
     "output_type": "display_data"
    },
    {
     "name": "stdout",
     "output_type": "stream",
     "text": [
      "outcomes\n"
     ]
    },
    {
     "data": {
      "text/html": [
       "<div>\n",
       "<style scoped>\n",
       "    .dataframe tbody tr th:only-of-type {\n",
       "        vertical-align: middle;\n",
       "    }\n",
       "\n",
       "    .dataframe tbody tr th {\n",
       "        vertical-align: top;\n",
       "    }\n",
       "\n",
       "    .dataframe thead th {\n",
       "        text-align: right;\n",
       "    }\n",
       "</style>\n",
       "<table border=\"1\" class=\"dataframe\">\n",
       "  <thead>\n",
       "    <tr style=\"text-align: right;\">\n",
       "      <th></th>\n",
       "      <th>id</th>\n",
       "      <th>nct_id</th>\n",
       "      <th>outcome_type</th>\n",
       "      <th>title</th>\n",
       "      <th>description</th>\n",
       "      <th>time_frame</th>\n",
       "      <th>population</th>\n",
       "      <th>units</th>\n",
       "      <th>units_analyzed</th>\n",
       "      <th>dispersion_type</th>\n",
       "      <th>param_type</th>\n",
       "      <th>date</th>\n",
       "    </tr>\n",
       "  </thead>\n",
       "  <tbody>\n",
       "    <tr>\n",
       "      <th>0</th>\n",
       "      <td>0</td>\n",
       "      <td>332</td>\n",
       "      <td>Secondary</td>\n",
       "      <td>Mean Change From Baseline in Nighttime Symptom...</td>\n",
       "      <td>Mean change from baseline in Nighttime Symptom...</td>\n",
       "      <td>Baseline and Week 2</td>\n",
       "      <td>The secondary efficacy analyses were based on ...</td>\n",
       "      <td>Units on a Scale</td>\n",
       "      <td>None</td>\n",
       "      <td>95% Confidence Interval</td>\n",
       "      <td>Least Squares Mean</td>\n",
       "      <td>2000-05-31</td>\n",
       "    </tr>\n",
       "  </tbody>\n",
       "</table>\n",
       "</div>"
      ],
      "text/plain": [
       "   id  nct_id outcome_type                                              title  \\\n",
       "0   0     332    Secondary  Mean Change From Baseline in Nighttime Symptom...   \n",
       "\n",
       "                                         description           time_frame  \\\n",
       "0  Mean change from baseline in Nighttime Symptom...  Baseline and Week 2   \n",
       "\n",
       "                                          population             units  \\\n",
       "0  The secondary efficacy analyses were based on ...  Units on a Scale   \n",
       "\n",
       "  units_analyzed          dispersion_type          param_type       date  \n",
       "0           None  95% Confidence Interval  Least Squares Mean 2000-05-31  "
      ]
     },
     "metadata": {},
     "output_type": "display_data"
    },
    {
     "name": "stdout",
     "output_type": "stream",
     "text": [
      "conditions\n"
     ]
    },
    {
     "data": {
      "text/html": [
       "<div>\n",
       "<style scoped>\n",
       "    .dataframe tbody tr th:only-of-type {\n",
       "        vertical-align: middle;\n",
       "    }\n",
       "\n",
       "    .dataframe tbody tr th {\n",
       "        vertical-align: top;\n",
       "    }\n",
       "\n",
       "    .dataframe thead th {\n",
       "        text-align: right;\n",
       "    }\n",
       "</style>\n",
       "<table border=\"1\" class=\"dataframe\">\n",
       "  <thead>\n",
       "    <tr style=\"text-align: right;\">\n",
       "      <th></th>\n",
       "      <th>condition_id</th>\n",
       "      <th>mesh_term</th>\n",
       "    </tr>\n",
       "  </thead>\n",
       "  <tbody>\n",
       "    <tr>\n",
       "      <th>0</th>\n",
       "      <td>0</td>\n",
       "      <td>Paralysis</td>\n",
       "    </tr>\n",
       "  </tbody>\n",
       "</table>\n",
       "</div>"
      ],
      "text/plain": [
       "   condition_id  mesh_term\n",
       "0             0  Paralysis"
      ]
     },
     "metadata": {},
     "output_type": "display_data"
    },
    {
     "name": "stdout",
     "output_type": "stream",
     "text": [
      "reported_event_totals\n"
     ]
    },
    {
     "data": {
      "text/html": [
       "<div>\n",
       "<style scoped>\n",
       "    .dataframe tbody tr th:only-of-type {\n",
       "        vertical-align: middle;\n",
       "    }\n",
       "\n",
       "    .dataframe tbody tr th {\n",
       "        vertical-align: top;\n",
       "    }\n",
       "\n",
       "    .dataframe thead th {\n",
       "        text-align: right;\n",
       "    }\n",
       "</style>\n",
       "<table border=\"1\" class=\"dataframe\">\n",
       "  <thead>\n",
       "    <tr style=\"text-align: right;\">\n",
       "      <th></th>\n",
       "      <th>id</th>\n",
       "      <th>nct_id</th>\n",
       "      <th>event_type</th>\n",
       "      <th>classification</th>\n",
       "      <th>subjects_affected</th>\n",
       "      <th>subjects_at_risk</th>\n",
       "      <th>date</th>\n",
       "    </tr>\n",
       "  </thead>\n",
       "  <tbody>\n",
       "    <tr>\n",
       "      <th>0</th>\n",
       "      <td>0</td>\n",
       "      <td>332</td>\n",
       "      <td>other</td>\n",
       "      <td>Total, other adverse events</td>\n",
       "      <td>0.0</td>\n",
       "      <td>352.0</td>\n",
       "      <td>2000-05-31</td>\n",
       "    </tr>\n",
       "  </tbody>\n",
       "</table>\n",
       "</div>"
      ],
      "text/plain": [
       "   id  nct_id event_type               classification  subjects_affected  \\\n",
       "0   0     332      other  Total, other adverse events                0.0   \n",
       "\n",
       "   subjects_at_risk       date  \n",
       "0             352.0 2000-05-31  "
      ]
     },
     "metadata": {},
     "output_type": "display_data"
    },
    {
     "name": "stdout",
     "output_type": "stream",
     "text": [
      "studies\n"
     ]
    },
    {
     "data": {
      "text/html": [
       "<div>\n",
       "<style scoped>\n",
       "    .dataframe tbody tr th:only-of-type {\n",
       "        vertical-align: middle;\n",
       "    }\n",
       "\n",
       "    .dataframe tbody tr th {\n",
       "        vertical-align: top;\n",
       "    }\n",
       "\n",
       "    .dataframe thead th {\n",
       "        text-align: right;\n",
       "    }\n",
       "</style>\n",
       "<table border=\"1\" class=\"dataframe\">\n",
       "  <thead>\n",
       "    <tr style=\"text-align: right;\">\n",
       "      <th></th>\n",
       "      <th>nct_id</th>\n",
       "      <th>start_date</th>\n",
       "      <th>target_duration</th>\n",
       "      <th>study_type</th>\n",
       "      <th>acronym</th>\n",
       "      <th>baseline_population</th>\n",
       "      <th>brief_title</th>\n",
       "      <th>official_title</th>\n",
       "      <th>phase</th>\n",
       "      <th>enrollment</th>\n",
       "      <th>...</th>\n",
       "      <th>is_ppsd</th>\n",
       "      <th>is_us_export</th>\n",
       "      <th>biospec_retention</th>\n",
       "      <th>biospec_description</th>\n",
       "      <th>source_class</th>\n",
       "      <th>baseline_type_units_analyzed</th>\n",
       "      <th>fdaaa801_violation</th>\n",
       "      <th>plan_to_share_ipd</th>\n",
       "      <th>detailed_descriptions</th>\n",
       "      <th>brief_summaries</th>\n",
       "    </tr>\n",
       "  </thead>\n",
       "  <tbody>\n",
       "    <tr>\n",
       "      <th>0</th>\n",
       "      <td>0</td>\n",
       "      <td>2000-01-01</td>\n",
       "      <td>None</td>\n",
       "      <td>Observational</td>\n",
       "      <td>HEMAJA</td>\n",
       "      <td>None</td>\n",
       "      <td>Unicentric Retrospective Analysis of a Cohort ...</td>\n",
       "      <td>Unicentric Retrospective Analysis of a Cohort ...</td>\n",
       "      <td>None</td>\n",
       "      <td>602.0</td>\n",
       "      <td>...</td>\n",
       "      <td>None</td>\n",
       "      <td>None</td>\n",
       "      <td>None</td>\n",
       "      <td>None</td>\n",
       "      <td>OTHER</td>\n",
       "      <td>None</td>\n",
       "      <td>None</td>\n",
       "      <td>No</td>\n",
       "      <td>The therapeutic results (response and survival...</td>\n",
       "      <td>Unicentric retrospective analysis of a cohort ...</td>\n",
       "    </tr>\n",
       "  </tbody>\n",
       "</table>\n",
       "<p>1 rows × 29 columns</p>\n",
       "</div>"
      ],
      "text/plain": [
       "   nct_id start_date target_duration     study_type acronym  \\\n",
       "0       0 2000-01-01            None  Observational  HEMAJA   \n",
       "\n",
       "  baseline_population                                        brief_title  \\\n",
       "0                None  Unicentric Retrospective Analysis of a Cohort ...   \n",
       "\n",
       "                                      official_title phase  enrollment  ...  \\\n",
       "0  Unicentric Retrospective Analysis of a Cohort ...  None       602.0  ...   \n",
       "\n",
       "  is_ppsd is_us_export  biospec_retention  biospec_description  source_class  \\\n",
       "0    None         None               None                 None         OTHER   \n",
       "\n",
       "  baseline_type_units_analyzed fdaaa801_violation plan_to_share_ipd  \\\n",
       "0                         None               None                No   \n",
       "\n",
       "                               detailed_descriptions  \\\n",
       "0  The therapeutic results (response and survival...   \n",
       "\n",
       "                                     brief_summaries  \n",
       "0  Unicentric retrospective analysis of a cohort ...  \n",
       "\n",
       "[1 rows x 29 columns]"
      ]
     },
     "metadata": {},
     "output_type": "display_data"
    },
    {
     "name": "stdout",
     "output_type": "stream",
     "text": [
      "designs\n"
     ]
    },
    {
     "data": {
      "text/html": [
       "<div>\n",
       "<style scoped>\n",
       "    .dataframe tbody tr th:only-of-type {\n",
       "        vertical-align: middle;\n",
       "    }\n",
       "\n",
       "    .dataframe tbody tr th {\n",
       "        vertical-align: top;\n",
       "    }\n",
       "\n",
       "    .dataframe thead th {\n",
       "        text-align: right;\n",
       "    }\n",
       "</style>\n",
       "<table border=\"1\" class=\"dataframe\">\n",
       "  <thead>\n",
       "    <tr style=\"text-align: right;\">\n",
       "      <th></th>\n",
       "      <th>id</th>\n",
       "      <th>nct_id</th>\n",
       "      <th>allocation</th>\n",
       "      <th>intervention_model</th>\n",
       "      <th>observational_model</th>\n",
       "      <th>primary_purpose</th>\n",
       "      <th>time_perspective</th>\n",
       "      <th>masking</th>\n",
       "      <th>masking_description</th>\n",
       "      <th>intervention_model_description</th>\n",
       "      <th>subject_masked</th>\n",
       "      <th>caregiver_masked</th>\n",
       "      <th>investigator_masked</th>\n",
       "      <th>outcomes_assessor_masked</th>\n",
       "      <th>date</th>\n",
       "    </tr>\n",
       "  </thead>\n",
       "  <tbody>\n",
       "    <tr>\n",
       "      <th>0</th>\n",
       "      <td>0</td>\n",
       "      <td>5</td>\n",
       "      <td>None</td>\n",
       "      <td>None</td>\n",
       "      <td>Cohort</td>\n",
       "      <td>None</td>\n",
       "      <td>Retrospective</td>\n",
       "      <td>None</td>\n",
       "      <td>None</td>\n",
       "      <td>None</td>\n",
       "      <td>None</td>\n",
       "      <td>None</td>\n",
       "      <td>None</td>\n",
       "      <td>None</td>\n",
       "      <td>2000-01-01</td>\n",
       "    </tr>\n",
       "  </tbody>\n",
       "</table>\n",
       "</div>"
      ],
      "text/plain": [
       "   id  nct_id allocation intervention_model observational_model  \\\n",
       "0   0       5       None               None              Cohort   \n",
       "\n",
       "  primary_purpose time_perspective masking masking_description  \\\n",
       "0            None    Retrospective    None                None   \n",
       "\n",
       "  intervention_model_description subject_masked caregiver_masked  \\\n",
       "0                           None           None             None   \n",
       "\n",
       "  investigator_masked outcomes_assessor_masked       date  \n",
       "0                None                     None 2000-01-01  "
      ]
     },
     "metadata": {},
     "output_type": "display_data"
    },
    {
     "name": "stdout",
     "output_type": "stream",
     "text": [
      "drop_withdrawals\n"
     ]
    },
    {
     "data": {
      "text/html": [
       "<div>\n",
       "<style scoped>\n",
       "    .dataframe tbody tr th:only-of-type {\n",
       "        vertical-align: middle;\n",
       "    }\n",
       "\n",
       "    .dataframe tbody tr th {\n",
       "        vertical-align: top;\n",
       "    }\n",
       "\n",
       "    .dataframe thead th {\n",
       "        text-align: right;\n",
       "    }\n",
       "</style>\n",
       "<table border=\"1\" class=\"dataframe\">\n",
       "  <thead>\n",
       "    <tr style=\"text-align: right;\">\n",
       "      <th></th>\n",
       "      <th>id</th>\n",
       "      <th>nct_id</th>\n",
       "      <th>period</th>\n",
       "      <th>reason</th>\n",
       "      <th>count</th>\n",
       "      <th>date</th>\n",
       "    </tr>\n",
       "  </thead>\n",
       "  <tbody>\n",
       "    <tr>\n",
       "      <th>0</th>\n",
       "      <td>0</td>\n",
       "      <td>332</td>\n",
       "      <td>Overall Study</td>\n",
       "      <td>Lack of Efficacy</td>\n",
       "      <td>8.0</td>\n",
       "      <td>2000-05-31</td>\n",
       "    </tr>\n",
       "  </tbody>\n",
       "</table>\n",
       "</div>"
      ],
      "text/plain": [
       "   id  nct_id         period            reason  count       date\n",
       "0   0     332  Overall Study  Lack of Efficacy    8.0 2000-05-31"
      ]
     },
     "metadata": {},
     "output_type": "display_data"
    },
    {
     "name": "stdout",
     "output_type": "stream",
     "text": [
      "outcome_analyses\n"
     ]
    },
    {
     "data": {
      "text/html": [
       "<div>\n",
       "<style scoped>\n",
       "    .dataframe tbody tr th:only-of-type {\n",
       "        vertical-align: middle;\n",
       "    }\n",
       "\n",
       "    .dataframe tbody tr th {\n",
       "        vertical-align: top;\n",
       "    }\n",
       "\n",
       "    .dataframe thead th {\n",
       "        text-align: right;\n",
       "    }\n",
       "</style>\n",
       "<table border=\"1\" class=\"dataframe\">\n",
       "  <thead>\n",
       "    <tr style=\"text-align: right;\">\n",
       "      <th></th>\n",
       "      <th>id</th>\n",
       "      <th>nct_id</th>\n",
       "      <th>outcome_id</th>\n",
       "      <th>non_inferiority_type</th>\n",
       "      <th>non_inferiority_description</th>\n",
       "      <th>param_type</th>\n",
       "      <th>param_value</th>\n",
       "      <th>dispersion_type</th>\n",
       "      <th>dispersion_value</th>\n",
       "      <th>p_value_modifier</th>\n",
       "      <th>...</th>\n",
       "      <th>p_value_description</th>\n",
       "      <th>method</th>\n",
       "      <th>method_description</th>\n",
       "      <th>estimate_description</th>\n",
       "      <th>groups_description</th>\n",
       "      <th>other_analysis_description</th>\n",
       "      <th>ci_upper_limit_raw</th>\n",
       "      <th>ci_lower_limit_raw</th>\n",
       "      <th>p_value_raw</th>\n",
       "      <th>date</th>\n",
       "    </tr>\n",
       "  </thead>\n",
       "  <tbody>\n",
       "    <tr>\n",
       "      <th>0</th>\n",
       "      <td>0</td>\n",
       "      <td>646</td>\n",
       "      <td>7</td>\n",
       "      <td>Non-Inferiority or Equivalence</td>\n",
       "      <td>ANOVA will be performed on ln-transformed Ae0-...</td>\n",
       "      <td>Ratio of the mean</td>\n",
       "      <td>97.94</td>\n",
       "      <td>None</td>\n",
       "      <td>NaN</td>\n",
       "      <td>None</td>\n",
       "      <td>...</td>\n",
       "      <td>None</td>\n",
       "      <td>None</td>\n",
       "      <td>None</td>\n",
       "      <td>Bioequivalence is established when 90% Confide...</td>\n",
       "      <td>None</td>\n",
       "      <td>None</td>\n",
       "      <td>NaN</td>\n",
       "      <td>NaN</td>\n",
       "      <td>NaN</td>\n",
       "      <td>2000-07-31</td>\n",
       "    </tr>\n",
       "  </tbody>\n",
       "</table>\n",
       "<p>1 rows × 26 columns</p>\n",
       "</div>"
      ],
      "text/plain": [
       "   id  nct_id  outcome_id            non_inferiority_type  \\\n",
       "0   0     646           7  Non-Inferiority or Equivalence   \n",
       "\n",
       "                         non_inferiority_description         param_type  \\\n",
       "0  ANOVA will be performed on ln-transformed Ae0-...  Ratio of the mean   \n",
       "\n",
       "   param_value dispersion_type  dispersion_value p_value_modifier  ...  \\\n",
       "0        97.94            None               NaN             None  ...   \n",
       "\n",
       "   p_value_description method  method_description  \\\n",
       "0                 None   None                None   \n",
       "\n",
       "                                estimate_description  groups_description  \\\n",
       "0  Bioequivalence is established when 90% Confide...                None   \n",
       "\n",
       "  other_analysis_description ci_upper_limit_raw ci_lower_limit_raw  \\\n",
       "0                       None                NaN                NaN   \n",
       "\n",
       "  p_value_raw       date  \n",
       "0         NaN 2000-07-31  \n",
       "\n",
       "[1 rows x 26 columns]"
      ]
     },
     "metadata": {},
     "output_type": "display_data"
    },
    {
     "name": "stdout",
     "output_type": "stream",
     "text": [
      "interventions\n"
     ]
    },
    {
     "data": {
      "text/html": [
       "<div>\n",
       "<style scoped>\n",
       "    .dataframe tbody tr th:only-of-type {\n",
       "        vertical-align: middle;\n",
       "    }\n",
       "\n",
       "    .dataframe tbody tr th {\n",
       "        vertical-align: top;\n",
       "    }\n",
       "\n",
       "    .dataframe thead th {\n",
       "        text-align: right;\n",
       "    }\n",
       "</style>\n",
       "<table border=\"1\" class=\"dataframe\">\n",
       "  <thead>\n",
       "    <tr style=\"text-align: right;\">\n",
       "      <th></th>\n",
       "      <th>intervention_id</th>\n",
       "      <th>mesh_term</th>\n",
       "    </tr>\n",
       "  </thead>\n",
       "  <tbody>\n",
       "    <tr>\n",
       "      <th>0</th>\n",
       "      <td>0</td>\n",
       "      <td>Tepotinib</td>\n",
       "    </tr>\n",
       "  </tbody>\n",
       "</table>\n",
       "</div>"
      ],
      "text/plain": [
       "   intervention_id  mesh_term\n",
       "0                0  Tepotinib"
      ]
     },
     "metadata": {},
     "output_type": "display_data"
    },
    {
     "name": "stdout",
     "output_type": "stream",
     "text": [
      "eligibilities\n"
     ]
    },
    {
     "data": {
      "text/html": [
       "<div>\n",
       "<style scoped>\n",
       "    .dataframe tbody tr th:only-of-type {\n",
       "        vertical-align: middle;\n",
       "    }\n",
       "\n",
       "    .dataframe tbody tr th {\n",
       "        vertical-align: top;\n",
       "    }\n",
       "\n",
       "    .dataframe thead th {\n",
       "        text-align: right;\n",
       "    }\n",
       "</style>\n",
       "<table border=\"1\" class=\"dataframe\">\n",
       "  <thead>\n",
       "    <tr style=\"text-align: right;\">\n",
       "      <th></th>\n",
       "      <th>id</th>\n",
       "      <th>nct_id</th>\n",
       "      <th>sampling_method</th>\n",
       "      <th>gender</th>\n",
       "      <th>minimum_age</th>\n",
       "      <th>maximum_age</th>\n",
       "      <th>healthy_volunteers</th>\n",
       "      <th>population</th>\n",
       "      <th>criteria</th>\n",
       "      <th>gender_description</th>\n",
       "      <th>gender_based</th>\n",
       "      <th>adult</th>\n",
       "      <th>child</th>\n",
       "      <th>older_adult</th>\n",
       "      <th>date</th>\n",
       "    </tr>\n",
       "  </thead>\n",
       "  <tbody>\n",
       "    <tr>\n",
       "      <th>0</th>\n",
       "      <td>0</td>\n",
       "      <td>4</td>\n",
       "      <td>Non-Probability Sample</td>\n",
       "      <td>All</td>\n",
       "      <td>None</td>\n",
       "      <td>None</td>\n",
       "      <td>No</td>\n",
       "      <td>Patients with proven gastric adenocarcinoma un...</td>\n",
       "      <td>Inclusion Criteria:~all patients undergoing su...</td>\n",
       "      <td>None</td>\n",
       "      <td>None</td>\n",
       "      <td>t</td>\n",
       "      <td>t</td>\n",
       "      <td>t</td>\n",
       "      <td>2000-01-01</td>\n",
       "    </tr>\n",
       "  </tbody>\n",
       "</table>\n",
       "</div>"
      ],
      "text/plain": [
       "   id  nct_id         sampling_method gender minimum_age maximum_age  \\\n",
       "0   0       4  Non-Probability Sample    All        None        None   \n",
       "\n",
       "  healthy_volunteers                                         population  \\\n",
       "0                 No  Patients with proven gastric adenocarcinoma un...   \n",
       "\n",
       "                                            criteria gender_description  \\\n",
       "0  Inclusion Criteria:~all patients undergoing su...               None   \n",
       "\n",
       "  gender_based adult child older_adult       date  \n",
       "0         None     t     t           t 2000-01-01  "
      ]
     },
     "metadata": {},
     "output_type": "display_data"
    },
    {
     "name": "stdout",
     "output_type": "stream",
     "text": [
      "facilities_studies\n"
     ]
    },
    {
     "data": {
      "text/html": [
       "<div>\n",
       "<style scoped>\n",
       "    .dataframe tbody tr th:only-of-type {\n",
       "        vertical-align: middle;\n",
       "    }\n",
       "\n",
       "    .dataframe tbody tr th {\n",
       "        vertical-align: top;\n",
       "    }\n",
       "\n",
       "    .dataframe thead th {\n",
       "        text-align: right;\n",
       "    }\n",
       "</style>\n",
       "<table border=\"1\" class=\"dataframe\">\n",
       "  <thead>\n",
       "    <tr style=\"text-align: right;\">\n",
       "      <th></th>\n",
       "      <th>id</th>\n",
       "      <th>nct_id</th>\n",
       "      <th>facility_id</th>\n",
       "      <th>date</th>\n",
       "    </tr>\n",
       "  </thead>\n",
       "  <tbody>\n",
       "    <tr>\n",
       "      <th>0</th>\n",
       "      <td>0</td>\n",
       "      <td>32</td>\n",
       "      <td>106096</td>\n",
       "      <td>2000-01-01</td>\n",
       "    </tr>\n",
       "  </tbody>\n",
       "</table>\n",
       "</div>"
      ],
      "text/plain": [
       "   id  nct_id  facility_id       date\n",
       "0   0      32       106096 2000-01-01"
      ]
     },
     "metadata": {},
     "output_type": "display_data"
    },
    {
     "name": "stdout",
     "output_type": "stream",
     "text": [
      "facilities\n"
     ]
    },
    {
     "data": {
      "text/html": [
       "<div>\n",
       "<style scoped>\n",
       "    .dataframe tbody tr th:only-of-type {\n",
       "        vertical-align: middle;\n",
       "    }\n",
       "\n",
       "    .dataframe tbody tr th {\n",
       "        vertical-align: top;\n",
       "    }\n",
       "\n",
       "    .dataframe thead th {\n",
       "        text-align: right;\n",
       "    }\n",
       "</style>\n",
       "<table border=\"1\" class=\"dataframe\">\n",
       "  <thead>\n",
       "    <tr style=\"text-align: right;\">\n",
       "      <th></th>\n",
       "      <th>facility_id</th>\n",
       "      <th>name</th>\n",
       "      <th>city</th>\n",
       "      <th>state</th>\n",
       "      <th>zip</th>\n",
       "      <th>country</th>\n",
       "    </tr>\n",
       "  </thead>\n",
       "  <tbody>\n",
       "    <tr>\n",
       "      <th>0</th>\n",
       "      <td>0</td>\n",
       "      <td>Daiichi Sankyo, Inc.</td>\n",
       "      <td>Basking Ridge</td>\n",
       "      <td>New Jersey</td>\n",
       "      <td>07920</td>\n",
       "      <td>United States</td>\n",
       "    </tr>\n",
       "  </tbody>\n",
       "</table>\n",
       "</div>"
      ],
      "text/plain": [
       "   facility_id                  name           city       state    zip  \\\n",
       "0            0  Daiichi Sankyo, Inc.  Basking Ridge  New Jersey  07920   \n",
       "\n",
       "         country  \n",
       "0  United States  "
      ]
     },
     "metadata": {},
     "output_type": "display_data"
    }
   ],
   "source": [
    "for i,j in dataset.db.table_dict.items():\n",
    "    print(i)\n",
    "    display(j.df.head(1))"
   ]
  },
  {
   "cell_type": "markdown",
   "metadata": {},
   "source": [
    "# Task 1: trial-outcome: if a trial will meet its primary outcome?"
   ]
  },
  {
   "cell_type": "code",
   "execution_count": 5,
   "metadata": {},
   "outputs": [],
   "source": [
    "task = dataset.get_task('rel-trial-outcome', process=True)"
   ]
  },
  {
   "cell_type": "code",
   "execution_count": 6,
   "metadata": {},
   "outputs": [
    {
     "data": {
      "text/plain": [
       "Index(['timestamp', 'nct_id', 'outcome'], dtype='object')"
      ]
     },
     "execution_count": 6,
     "metadata": {},
     "output_type": "execute_result"
    }
   ],
   "source": [
    "task.train_table.df.columns"
   ]
  },
  {
   "cell_type": "code",
   "execution_count": 7,
   "metadata": {},
   "outputs": [
    {
     "name": "stdout",
     "output_type": "stream",
     "text": [
      "TRAIN\n",
      "\n",
      "11,994 samples over 11,994 trials.\n",
      "\n",
      "Label Distribution:\n",
      "outcome\n",
      "1    0.637569\n",
      "0    0.362431\n",
      "Name: proportion, dtype: float64\n",
      "\n",
      "Temporal dist of samples:\n",
      "timestamp\n",
      "2001-01    0.000167\n",
      "2002-01    0.000167\n",
      "2003-01    0.000584\n",
      "2004-01    0.002751\n",
      "2005-01    0.003085\n",
      "2006-01    0.007420\n",
      "2007-01    0.017009\n",
      "2008-01    0.060447\n",
      "2009-01    0.069368\n",
      "2010-01    0.071703\n",
      "2011-01    0.072119\n",
      "2012-01    0.073954\n",
      "2013-01    0.079206\n",
      "2014-01    0.082541\n",
      "2015-01    0.087044\n",
      "2016-01    0.091129\n",
      "2017-01    0.096131\n",
      "2018-01    0.094047\n",
      "2019-01    0.091129\n",
      "Name: proportion, dtype: float64\n",
      "\n",
      "Temporal dist of trials (first appearance):\n",
      "timestamp\n",
      "2001-01-05    0.000167\n",
      "2002-01-05    0.000167\n",
      "2003-01-05    0.000584\n",
      "2004-01-05    0.002751\n",
      "2005-01-04    0.003085\n",
      "2006-01-04    0.007420\n",
      "2007-01-04    0.017009\n",
      "2008-01-04    0.060447\n",
      "2009-01-03    0.069368\n",
      "2010-01-03    0.071703\n",
      "2011-01-03    0.072119\n",
      "2012-01-03    0.073954\n",
      "2013-01-02    0.079206\n",
      "2014-01-02    0.082541\n",
      "2015-01-02    0.087044\n",
      "2016-01-02    0.091129\n",
      "2017-01-01    0.096131\n",
      "2018-01-01    0.094047\n",
      "2019-01-01    0.091129\n",
      "Name: nct_id, dtype: float64\n"
     ]
    }
   ],
   "source": [
    "print('TRAIN\\n')\n",
    "\n",
    "print(f'{len(task.train_table.df):,} samples over {task.train_table.df.nct_id.nunique():,} trials.')\n",
    "print()\n",
    "print('Label Distribution:')\n",
    "print(task.train_table.df.outcome.value_counts(normalize=True))\n",
    "print()\n",
    "print('Temporal dist of samples:')\n",
    "print(task.train_table.df.timestamp.dt.strftime('%Y-%m').value_counts(normalize=True).sort_index())\n",
    "print()\n",
    "print('Temporal dist of trials (first appearance):')\n",
    "print(\n",
    "    # timestamp is sorted in desc order ==> keep='last'\n",
    "    task.train_table.df\n",
    "    .drop_duplicates(subset='nct_id', keep='last')\n",
    "    .groupby('timestamp').nct_id.nunique() / task.train_table.df.nct_id.nunique()\n",
    ")"
   ]
  },
  {
   "cell_type": "code",
   "execution_count": 8,
   "metadata": {},
   "outputs": [
    {
     "name": "stdout",
     "output_type": "stream",
     "text": [
      "VAL\n",
      "\n",
      "960 samples over 960 trials.\n",
      "\n",
      "Label Distribution:\n",
      "outcome\n",
      "1    0.584375\n",
      "0    0.415625\n",
      "Name: proportion, dtype: float64\n",
      "\n",
      "Temporal dist of samples:\n",
      "timestamp\n",
      "2020-01    1.0\n",
      "Name: proportion, dtype: float64\n",
      "\n",
      "User overlap between train and val: 0\n"
     ]
    }
   ],
   "source": [
    "print('VAL\\n')\n",
    "\n",
    "print(f'{len(task.val_table.df):,} samples over {task.val_table.df.nct_id.nunique():,} trials.')\n",
    "print()\n",
    "print('Label Distribution:')\n",
    "print(task.val_table.df.outcome.value_counts(normalize=True))\n",
    "print()\n",
    "print('Temporal dist of samples:')\n",
    "print(task.val_table.df.timestamp.dt.strftime('%Y-%m').value_counts(normalize=True).sort_index())\n",
    "print()\n",
    "print(f'User overlap between train and val: {len(set(task.train_table.df.nct_id) & set(task.val_table.df.nct_id)):,}')"
   ]
  },
  {
   "cell_type": "markdown",
   "metadata": {},
   "source": [
    "Each validation/test trials are completely new trials. So it is almost like an inductive setting - a new node comes in to the graph"
   ]
  },
  {
   "cell_type": "markdown",
   "metadata": {},
   "source": [
    "# Task 2: trial-adverse: what is number of adverse events?"
   ]
  },
  {
   "cell_type": "code",
   "execution_count": 9,
   "metadata": {},
   "outputs": [],
   "source": [
    "task = dataset.get_task('rel-trial-adverse', process=True)"
   ]
  },
  {
   "cell_type": "code",
   "execution_count": 10,
   "metadata": {},
   "outputs": [
    {
     "data": {
      "text/plain": [
       "<Axes: >"
      ]
     },
     "execution_count": 10,
     "metadata": {},
     "output_type": "execute_result"
    },
    {
     "data": {
      "image/png": "[encoded data removed]",
      "text/plain": [
       "<Figure size 640x480 with 1 Axes>"
      ]
     },
     "metadata": {},
     "output_type": "display_data"
    }
   ],
   "source": [
    "sns.boxplot(task.train_table.df.num_of_adverse_events.values, showfliers=False)"
   ]
  },
  {
   "cell_type": "code",
   "execution_count": 11,
   "metadata": {},
   "outputs": [
    {
     "data": {
      "text/plain": [
       "<Axes: >"
      ]
     },
     "execution_count": 11,
     "metadata": {},
     "output_type": "execute_result"
    },
    {
     "data": {
      "image/png": "[encoded data removed]",
      "text/plain": [
       "<Figure size 640x480 with 1 Axes>"
      ]
     },
     "metadata": {},
     "output_type": "display_data"
    }
   ],
   "source": [
    "sns.boxplot(task.val_table.df.num_of_adverse_events.values, showfliers=False)"
   ]
  },
  {
   "cell_type": "code",
   "execution_count": 13,
   "metadata": {},
   "outputs": [
    {
     "data": {
      "text/plain": [
       "num_of_adverse_events\n",
       "0.0       17678\n",
       "1.0        3135\n",
       "2.0        2166\n",
       "3.0        1599\n",
       "4.0        1320\n",
       "          ...  \n",
       "807.0         1\n",
       "2646.0        1\n",
       "256.0         1\n",
       "3134.0        1\n",
       "2765.0        1\n",
       "Name: count, Length: 897, dtype: int64"
      ]
     },
     "execution_count": 13,
     "metadata": {},
     "output_type": "execute_result"
    }
   ],
   "source": [
    "task.train_table.df.num_of_adverse_events.value_counts()"
   ]
  },
  {
   "cell_type": "code",
   "execution_count": 14,
   "metadata": {},
   "outputs": [
    {
     "data": {
      "text/plain": [
       "0.4079381562247606"
      ]
     },
     "execution_count": 14,
     "metadata": {},
     "output_type": "execute_result"
    }
   ],
   "source": [
    "len(task.train_table.df[task.train_table.df.num_of_adverse_events == 0])/len(task.train_table.df)"
   ]
  },
  {
   "cell_type": "markdown",
   "metadata": {},
   "source": [
    "40.8% of training trials have 0 adverse events"
   ]
  },
  {
   "cell_type": "code",
   "execution_count": 15,
   "metadata": {},
   "outputs": [
    {
     "data": {
      "text/plain": [
       "0.3918242491657397"
      ]
     },
     "execution_count": 15,
     "metadata": {},
     "output_type": "execute_result"
    }
   ],
   "source": [
    "len(task.val_table.df[task.val_table.df.num_of_adverse_events == 0])/len(task.val_table.df)"
   ]
  },
  {
   "cell_type": "code",
   "execution_count": 20,
   "metadata": {},
   "outputs": [
    {
     "name": "stderr",
     "output_type": "stream",
     "text": [
      "/tmp/user/21201/ipykernel_2511998/3225043379.py:1: UserWarning: \n",
      "\n",
      "`distplot` is a deprecated function and will be removed in seaborn v0.14.0.\n",
      "\n",
      "Please adapt your code to use either `displot` (a figure-level function with\n",
      "similar flexibility) or `histplot` (an axes-level function for histograms).\n",
      "\n",
      "For a guide to updating your code to use the new functions, please see\n",
      "https://gist.github.com/mwaskom/de44147ed2974457ad6372750bbe5751\n",
      "\n",
      "  sns.distplot(task.val_table.df.num_of_adverse_events)\n"
     ]
    },
    {
     "data": {
      "text/plain": [
       "<Axes: xlabel='num_of_adverse_events', ylabel='Density'>"
      ]
     },
     "execution_count": 20,
     "metadata": {},
     "output_type": "execute_result"
    },
    {
     "data": {
      "image/png": "[encoded data removed]",
      "text/plain": [
       "<Figure size 640x480 with 1 Axes>"
      ]
     },
     "metadata": {},
     "output_type": "display_data"
    }
   ],
   "source": [
    "sns.distplot(task.val_table.df.num_of_adverse_events)"
   ]
  },
  {
   "cell_type": "code",
   "execution_count": null,
   "metadata": {},
   "outputs": [],
   "source": []
  },
  {
   "cell_type": "markdown",
   "metadata": {},
   "source": [
    "# Task 3: trial-withdrawl: Predict the the set of reasons of withdrawals for each trial in the next 1 year"
   ]
  },
  {
   "cell_type": "code",
   "execution_count": 21,
   "metadata": {},
   "outputs": [],
   "source": [
    "task = dataset.get_task('rel-trial-withdrawal', process=True)"
   ]
  },
  {
   "cell_type": "code",
   "execution_count": 26,
   "metadata": {},
   "outputs": [
    {
     "data": {
      "text/plain": [
       "array([15706, 12334, 12669,  6133,  5990,  5021,  4126,   916,   444,\n",
       "         545,   340,   427,   308,   220,   290])"
      ]
     },
     "execution_count": 26,
     "metadata": {},
     "output_type": "execute_result"
    }
   ],
   "source": [
    "import numpy as np\n",
    "## check label imbalance\n",
    "np.sum(np.vstack(task.train_table.df.withdraw_reasons.values), axis = 0)"
   ]
  },
  {
   "cell_type": "code",
   "execution_count": 28,
   "metadata": {},
   "outputs": [
    {
     "data": {
      "text/plain": [
       "<Axes: ylabel='Count'>"
      ]
     },
     "execution_count": 28,
     "metadata": {},
     "output_type": "execute_result"
    },
    {
     "data": {
      "image/png": "[encoded data removed]",
      "text/plain": [
       "<Figure size 640x480 with 1 Axes>"
      ]
     },
     "metadata": {},
     "output_type": "display_data"
    }
   ],
   "source": [
    "## check how many labels do each trial have\n",
    "sns.histplot(np.sum(np.vstack(task.train_table.df.withdraw_reasons.values), axis = 1))"
   ]
  },
  {
   "cell_type": "code",
   "execution_count": 30,
   "metadata": {},
   "outputs": [
    {
     "data": {
      "text/plain": [
       "24289"
      ]
     },
     "execution_count": 30,
     "metadata": {},
     "output_type": "execute_result"
    }
   ],
   "source": [
    "len(task.train_table.df.nct_id.unique())"
   ]
  },
  {
   "cell_type": "code",
   "execution_count": 32,
   "metadata": {},
   "outputs": [
    {
     "data": {
      "text/plain": [
       "1974"
      ]
     },
     "execution_count": 32,
     "metadata": {},
     "output_type": "execute_result"
    }
   ],
   "source": [
    "len(task.val_table.df.nct_id.unique())"
   ]
  },
  {
   "cell_type": "code",
   "execution_count": 33,
   "metadata": {},
   "outputs": [],
   "source": [
    "# check if any of the label is correlated to each other\n",
    "y = np.vstack(task.train_table.df.withdraw_reasons.values)"
   ]
  },
  {
   "cell_type": "code",
   "execution_count": 35,
   "metadata": {},
   "outputs": [],
   "source": [
    "corr = pd.DataFrame(y).corr()"
   ]
  },
  {
   "cell_type": "code",
   "execution_count": 37,
   "metadata": {},
   "outputs": [
    {
     "data": {
      "image/png": "[encoded data removed]",
      "text/plain": [
       "<Figure size 1000x800 with 2 Axes>"
      ]
     },
     "metadata": {},
     "output_type": "display_data"
    }
   ],
   "source": [
    "np.fill_diagonal(corr.values, np.nan)\n",
    "\n",
    "plt.figure(figsize=(10, 8))\n",
    "sns.heatmap(corr, annot=True, cmap='coolwarm', vmin=-1, vmax=1)\n",
    "plt.title('Label Correlation Heatmap')\n",
    "plt.show()"
   ]
  },
  {
   "cell_type": "code",
   "execution_count": null,
   "metadata": {},
   "outputs": [],
   "source": []
  },
  {
   "cell_type": "markdown",
   "metadata": {},
   "source": [
    "# Task 4: rel-trial-site: Predict the success rate of a trial site in the next 1 year."
   ]
  },
  {
   "cell_type": "code",
   "execution_count": 38,
   "metadata": {},
   "outputs": [],
   "source": [
    "task = dataset.get_task('rel-trial-site', process=True)"
   ]
  },
  {
   "cell_type": "code",
   "execution_count": 43,
   "metadata": {},
   "outputs": [
    {
     "name": "stderr",
     "output_type": "stream",
     "text": [
      "/tmp/user/21201/ipykernel_2511998/4175891164.py:1: UserWarning: \n",
      "\n",
      "`distplot` is a deprecated function and will be removed in seaborn v0.14.0.\n",
      "\n",
      "Please adapt your code to use either `displot` (a figure-level function with\n",
      "similar flexibility) or `histplot` (an axes-level function for histograms).\n",
      "\n",
      "For a guide to updating your code to use the new functions, please see\n",
      "https://gist.github.com/mwaskom/de44147ed2974457ad6372750bbe5751\n",
      "\n",
      "  sns.distplot(task.train_table.df.success_rate)\n",
      "/tmp/user/21201/ipykernel_2511998/4175891164.py:2: UserWarning: \n",
      "\n",
      "`distplot` is a deprecated function and will be removed in seaborn v0.14.0.\n",
      "\n",
      "Please adapt your code to use either `displot` (a figure-level function with\n",
      "similar flexibility) or `histplot` (an axes-level function for histograms).\n",
      "\n",
      "For a guide to updating your code to use the new functions, please see\n",
      "https://gist.github.com/mwaskom/de44147ed2974457ad6372750bbe5751\n",
      "\n",
      "  sns.distplot(task.val_table.df.success_rate)\n"
     ]
    },
    {
     "data": {
      "text/plain": [
       "<Axes: xlabel='success_rate', ylabel='Density'>"
      ]
     },
     "execution_count": 43,
     "metadata": {},
     "output_type": "execute_result"
    },
    {
     "data": {
      "image/png": "[encoded data removed]",
      "text/plain": [
       "<Figure size 640x480 with 1 Axes>"
      ]
     },
     "metadata": {},
     "output_type": "display_data"
    }
   ],
   "source": [
    "sns.distplot(task.train_table.df.success_rate)\n",
    "sns.distplot(task.val_table.df.success_rate)"
   ]
  },
  {
   "cell_type": "code",
   "execution_count": null,
   "metadata": {},
   "outputs": [],
   "source": []
  }
 ],
 "metadata": {
  "kernelspec": {
   "display_name": "Python 3 (ipykernel)",
   "language": "python",
   "name": "python3"
  },
  "language_info": {
   "codemirror_mode": {
    "name": "ipython",
    "version": 3
   },
   "file_extension": ".py",
   "mimetype": "text/x-python",
   "name": "python",
   "nbconvert_exporter": "python",
   "pygments_lexer": "ipython3",
   "version": "3.9.18"
  }
 },
 "nbformat": 4,
 "nbformat_minor": 4
}
